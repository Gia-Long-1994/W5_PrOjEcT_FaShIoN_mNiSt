{
 "cells": [
  {
   "cell_type": "markdown",
   "metadata": {},
   "source": [
    "# Import Libraries"
   ]
  },
  {
   "cell_type": "code",
   "execution_count": 1,
   "metadata": {},
   "outputs": [],
   "source": [
    "import pandas as pd\n",
    "import matplotlib.pyplot as plt\n",
    "import numpy as np\n",
    "import seaborn as sns\n",
    "from sklearn.decomposition import PCA\n",
    "from sklearn.model_selection import train_test_split,cross_val_score\n",
    "from sklearn.tree import DecisionTreeClassifier\n",
    "from sklearn.naive_bayes import GaussianNB\n",
    "from sklearn.linear_model import LogisticRegression\n",
    "from sklearn.svm import SVC\n",
    "from sklearn.neighbors import KNeighborsClassifier\n",
    "from sklearn.ensemble import VotingClassifier\n",
    "from sklearn.ensemble import BaggingClassifier\n",
    "from sklearn.ensemble import AdaBoostClassifier\n",
    "from sklearn.ensemble import RandomForestClassifier\n",
    "from xgboost import XGBClassifier\n",
    "from sklearn.metrics import accuracy_score, confusion_matrix , classification_report"
   ]
  },
  {
   "cell_type": "code",
   "execution_count": 2,
   "metadata": {},
   "outputs": [
    {
     "data": {
      "text/html": [
       "<div>\n",
       "<style scoped>\n",
       "    .dataframe tbody tr th:only-of-type {\n",
       "        vertical-align: middle;\n",
       "    }\n",
       "\n",
       "    .dataframe tbody tr th {\n",
       "        vertical-align: top;\n",
       "    }\n",
       "\n",
       "    .dataframe thead th {\n",
       "        text-align: right;\n",
       "    }\n",
       "</style>\n",
       "<table border=\"1\" class=\"dataframe\">\n",
       "  <thead>\n",
       "    <tr style=\"text-align: right;\">\n",
       "      <th></th>\n",
       "      <th>0</th>\n",
       "      <th>1</th>\n",
       "      <th>2</th>\n",
       "      <th>3</th>\n",
       "      <th>4</th>\n",
       "      <th>5</th>\n",
       "      <th>6</th>\n",
       "      <th>7</th>\n",
       "      <th>8</th>\n",
       "      <th>9</th>\n",
       "    </tr>\n",
       "  </thead>\n",
       "  <tbody>\n",
       "    <tr>\n",
       "      <th>categorie</th>\n",
       "      <td>T-shirt/Top</td>\n",
       "      <td>Trouser</td>\n",
       "      <td>Pullover</td>\n",
       "      <td>Dress</td>\n",
       "      <td>Coat</td>\n",
       "      <td>Sandal</td>\n",
       "      <td>Shirt</td>\n",
       "      <td>Sneaker</td>\n",
       "      <td>Bag</td>\n",
       "      <td>Ankel Boot</td>\n",
       "    </tr>\n",
       "  </tbody>\n",
       "</table>\n",
       "</div>"
      ],
      "text/plain": [
       "                     0        1         2      3     4       5      6  \\\n",
       "categorie  T-shirt/Top  Trouser  Pullover  Dress  Coat  Sandal  Shirt   \n",
       "\n",
       "                 7    8           9  \n",
       "categorie  Sneaker  Bag  Ankel Boot  "
      ]
     },
     "execution_count": 2,
     "metadata": {},
     "output_type": "execute_result"
    }
   ],
   "source": [
    "categorie_lyst = ['T-shirt/Top','Trouser','Pullover','Dress','Coat','Sandal','Shirt','Sneaker','Bag','Ankel Boot']\n",
    "def create_categorie_data_frame() :\n",
    "    label_lyst = [i for i in range(10)]\n",
    "    label_frame = {'categorie':categorie_lyst}\n",
    "    return pd.DataFrame(data=label_frame,index=label_lyst).T\n",
    "create_categorie_data_frame()"
   ]
  },
  {
   "cell_type": "markdown",
   "metadata": {},
   "source": [
    "# 1) Reading train set"
   ]
  },
  {
   "cell_type": "code",
   "execution_count": 3,
   "metadata": {},
   "outputs": [],
   "source": [
    "train_set = pd.read_csv('fashion-mnist_train.csv')"
   ]
  },
  {
   "cell_type": "code",
   "execution_count": 4,
   "metadata": {},
   "outputs": [
    {
     "name": "stdout",
     "output_type": "stream",
     "text": [
      "<class 'pandas.core.frame.DataFrame'>\n",
      "RangeIndex: 60000 entries, 0 to 59999\n",
      "Columns: 785 entries, label to pixel784\n",
      "dtypes: int64(785)\n",
      "memory usage: 359.3 MB\n"
     ]
    }
   ],
   "source": [
    "train_set.info()"
   ]
  },
  {
   "cell_type": "markdown",
   "metadata": {},
   "source": [
    "*See. We have 60K data points , 784 features , 1 label column*"
   ]
  },
  {
   "cell_type": "code",
   "execution_count": 5,
   "metadata": {},
   "outputs": [
    {
     "data": {
      "text/plain": [
       "0"
      ]
     },
     "execution_count": 5,
     "metadata": {},
     "output_type": "execute_result"
    }
   ],
   "source": [
    "train_set.isnull().sum().sum()"
   ]
  },
  {
   "cell_type": "markdown",
   "metadata": {},
   "source": [
    "*No missing values at all*"
   ]
  },
  {
   "cell_type": "markdown",
   "metadata": {},
   "source": [
    "*For looking around several models to feel how it works, we just pick a 5000 - size sample*"
   ]
  },
  {
   "cell_type": "code",
   "execution_count": 6,
   "metadata": {},
   "outputs": [],
   "source": [
    "data = train_set.sample(5000)"
   ]
  },
  {
   "cell_type": "code",
   "execution_count": 7,
   "metadata": {
    "scrolled": true
   },
   "outputs": [
    {
     "name": "stdout",
     "output_type": "stream",
     "text": [
      "<class 'pandas.core.frame.DataFrame'>\n",
      "Int64Index: 5000 entries, 47936 to 48260\n",
      "Columns: 785 entries, label to pixel784\n",
      "dtypes: int64(785)\n",
      "memory usage: 30.0 MB\n"
     ]
    }
   ],
   "source": [
    "data.info()"
   ]
  },
  {
   "cell_type": "markdown",
   "metadata": {},
   "source": [
    "# 2) Visualize data"
   ]
  },
  {
   "cell_type": "markdown",
   "metadata": {},
   "source": [
    "*Now let's visualize 10 data points (called **example** below) to see how images look like. Our first goal is creating a data frame having 10 rows corresponding 10 categories. To make sure , let's check how it is for the very first label*"
   ]
  },
  {
   "cell_type": "code",
   "execution_count": 8,
   "metadata": {},
   "outputs": [],
   "source": [
    "example = data[data.iloc[:,0]==0].sample(1)"
   ]
  },
  {
   "cell_type": "code",
   "execution_count": 9,
   "metadata": {},
   "outputs": [
    {
     "data": {
      "text/plain": [
       "0"
      ]
     },
     "execution_count": 9,
     "metadata": {},
     "output_type": "execute_result"
    }
   ],
   "source": [
    "example.iloc[0,0]"
   ]
  },
  {
   "cell_type": "code",
   "execution_count": 10,
   "metadata": {},
   "outputs": [
    {
     "data": {
      "text/html": [
       "<div>\n",
       "<style scoped>\n",
       "    .dataframe tbody tr th:only-of-type {\n",
       "        vertical-align: middle;\n",
       "    }\n",
       "\n",
       "    .dataframe tbody tr th {\n",
       "        vertical-align: top;\n",
       "    }\n",
       "\n",
       "    .dataframe thead th {\n",
       "        text-align: right;\n",
       "    }\n",
       "</style>\n",
       "<table border=\"1\" class=\"dataframe\">\n",
       "  <thead>\n",
       "    <tr style=\"text-align: right;\">\n",
       "      <th></th>\n",
       "      <th>pixel1</th>\n",
       "      <th>pixel2</th>\n",
       "      <th>pixel3</th>\n",
       "      <th>pixel4</th>\n",
       "      <th>pixel5</th>\n",
       "      <th>pixel6</th>\n",
       "      <th>pixel7</th>\n",
       "      <th>pixel8</th>\n",
       "      <th>pixel9</th>\n",
       "      <th>pixel10</th>\n",
       "      <th>...</th>\n",
       "      <th>pixel775</th>\n",
       "      <th>pixel776</th>\n",
       "      <th>pixel777</th>\n",
       "      <th>pixel778</th>\n",
       "      <th>pixel779</th>\n",
       "      <th>pixel780</th>\n",
       "      <th>pixel781</th>\n",
       "      <th>pixel782</th>\n",
       "      <th>pixel783</th>\n",
       "      <th>pixel784</th>\n",
       "    </tr>\n",
       "  </thead>\n",
       "  <tbody>\n",
       "    <tr>\n",
       "      <th>31841</th>\n",
       "      <td>0</td>\n",
       "      <td>0</td>\n",
       "      <td>0</td>\n",
       "      <td>0</td>\n",
       "      <td>0</td>\n",
       "      <td>0</td>\n",
       "      <td>0</td>\n",
       "      <td>0</td>\n",
       "      <td>0</td>\n",
       "      <td>0</td>\n",
       "      <td>...</td>\n",
       "      <td>0</td>\n",
       "      <td>0</td>\n",
       "      <td>0</td>\n",
       "      <td>0</td>\n",
       "      <td>0</td>\n",
       "      <td>0</td>\n",
       "      <td>0</td>\n",
       "      <td>0</td>\n",
       "      <td>0</td>\n",
       "      <td>0</td>\n",
       "    </tr>\n",
       "  </tbody>\n",
       "</table>\n",
       "<p>1 rows × 784 columns</p>\n",
       "</div>"
      ],
      "text/plain": [
       "       pixel1  pixel2  pixel3  pixel4  pixel5  pixel6  pixel7  pixel8  pixel9  \\\n",
       "31841       0       0       0       0       0       0       0       0       0   \n",
       "\n",
       "       pixel10  ...  pixel775  pixel776  pixel777  pixel778  pixel779  \\\n",
       "31841        0  ...         0         0         0         0         0   \n",
       "\n",
       "       pixel780  pixel781  pixel782  pixel783  pixel784  \n",
       "31841         0         0         0         0         0  \n",
       "\n",
       "[1 rows x 784 columns]"
      ]
     },
     "execution_count": 10,
     "metadata": {},
     "output_type": "execute_result"
    }
   ],
   "source": [
    "example.drop(example.columns[0],axis=1)"
   ]
  },
  {
   "cell_type": "markdown",
   "metadata": {},
   "source": [
    "*Now we define a function to extend all 10 rows (contained in something called **example_X**). We pass in a set and desire to get a new data frame*"
   ]
  },
  {
   "cell_type": "code",
   "execution_count": 11,
   "metadata": {},
   "outputs": [],
   "source": [
    "def create_frame_to_visualize(set_) :\n",
    "    example = set_[set_.iloc[:,0]==0].sample(1)\n",
    "    example_label = example.iloc[0,0]\n",
    "    example_X = example.drop(example.columns[0],axis=1) # initialize with the very first categorie\n",
    "    for i in range(1,10) : # and then concatenate 9 others\n",
    "        example = set_[set_.iloc[:,0]==i].sample(1)\n",
    "        example_feature = example.drop(example.columns[0],axis=1)\n",
    "        example_X = pd.concat([example_X,example_feature])\n",
    "    return example_X"
   ]
  },
  {
   "cell_type": "markdown",
   "metadata": {},
   "source": [
    "*Next we define a function to plot. Our function passes in data , height and weight with the same default 28*"
   ]
  },
  {
   "cell_type": "code",
   "execution_count": 12,
   "metadata": {},
   "outputs": [],
   "source": [
    "def plot_images(data, height=28, width=28):\n",
    "    fig, axes = plt.subplots(2,5, figsize=(10, 4),subplot_kw=dict(xticks=[], yticks=[]))\n",
    "    for i, ax in enumerate(axes.flat):\n",
    "        ax.set_title(categorie_lyst[i],fontsize=20,c='r')\n",
    "        ax.imshow(data.iloc[i,:].values.reshape(height, width),cmap='gray')"
   ]
  },
  {
   "cell_type": "markdown",
   "metadata": {},
   "source": [
    "*Now look !*"
   ]
  },
  {
   "cell_type": "code",
   "execution_count": 13,
   "metadata": {
    "scrolled": true
   },
   "outputs": [
    {
     "data": {
      "image/png": "[encoded data removed]",
      "text/plain": [
       "<Figure size 720x288 with 10 Axes>"
      ]
     },
     "metadata": {},
     "output_type": "display_data"
    }
   ],
   "source": [
    "plot_images(create_frame_to_visualize(data))"
   ]
  },
  {
   "cell_type": "markdown",
   "metadata": {},
   "source": [
    "*Images look so blurry. This is because they just have 28 x 28 pixels*"
   ]
  },
  {
   "cell_type": "markdown",
   "metadata": {},
   "source": [
    "*In this notebook , we gonna try to do some features engineering like feature selection and using PCA. Now jump into PCA and play with it !*"
   ]
  },
  {
   "cell_type": "markdown",
   "metadata": {},
   "source": [
    "## PCA"
   ]
  },
  {
   "cell_type": "markdown",
   "metadata": {},
   "source": [
    "*To start working with PCA , we need to know how many components are suitable. We need to plot **cumulative explained variance***"
   ]
  },
  {
   "cell_type": "code",
   "execution_count": 14,
   "metadata": {},
   "outputs": [],
   "source": [
    "def cumulative_explained_variance_plot(data):\n",
    "    matrix_ = data.values\n",
    "    pca = PCA()\n",
    "    pca.fit(matrix_[:,1:])\n",
    "    \n",
    "    sns.set_style('whitegrid')\n",
    "\n",
    "    plt.figure(figsize=(12,7))\n",
    "    plt.plot(np.cumsum(pca.explained_variance_ratio_))\n",
    "    plt.title('Cumulative Explained Variance',fontsize=30)\n",
    "    plt.xlabel('number of components',fontsize = 20)\n",
    "    plt.ylabel('cumulative explained variance',fontsize=20)"
   ]
  },
  {
   "cell_type": "code",
   "execution_count": 15,
   "metadata": {},
   "outputs": [
    {
     "data": {
      "image/png": "[encoded data removed]",
      "text/plain": [
       "<Figure size 864x504 with 1 Axes>"
      ]
     },
     "metadata": {},
     "output_type": "display_data"
    }
   ],
   "source": [
    "cumulative_explained_variance_plot(train_set)"
   ]
  },
  {
   "cell_type": "markdown",
   "metadata": {},
   "source": [
    "*Look ! If we choose **n = 500** we still retain almost 100% origin data. Let's see how good result is in next section*"
   ]
  },
  {
   "cell_type": "markdown",
   "metadata": {},
   "source": [
    "*Now time to create new data by using PCA. Our function here passes in data , number of compenents. It returns new data frame possessing signicicantly reduced dimension. Chalenge here is we do transform all columns with exception label column*"
   ]
  },
  {
   "cell_type": "code",
   "execution_count": 16,
   "metadata": {},
   "outputs": [],
   "source": [
    "def create_new_data_by_pca(data,n) :\n",
    "    pca = PCA(n_components=n)\n",
    "    matrix_ = data.values # including label column\n",
    "    projected_matrix_ = pca.fit_transform(matrix_[:,1:]) # without label column\n",
    "    new_matrix = np.hstack((matrix_[:,0].reshape(data.shape[0],1),projected_matrix_))\n",
    "    lyst_col = [i for i in range(n+1)] # define column name\n",
    "    lyst_idx = [i for i in range(data.shape[0])] # define index\n",
    "    new_data = pd.DataFrame(data=new_matrix,index=lyst_idx,columns=lyst_col) # recreate data frame\n",
    "    new_data.rename({0:'label'},axis=1,inplace=True) # rename the first column into 'label'\n",
    "    return new_data"
   ]
  },
  {
   "cell_type": "markdown",
   "metadata": {},
   "source": [
    "*And now check a look how above images look like after reducing dimension to 484*"
   ]
  },
  {
   "cell_type": "code",
   "execution_count": 17,
   "metadata": {
    "scrolled": false
   },
   "outputs": [
    {
     "data": {
      "image/png": "[encoded data removed]",
      "text/plain": [
       "<Figure size 720x288 with 10 Axes>"
      ]
     },
     "metadata": {},
     "output_type": "display_data"
    }
   ],
   "source": [
    "plot_images(create_frame_to_visualize(create_new_data_by_pca(data,484)),22,22)"
   ]
  },
  {
   "cell_type": "markdown",
   "metadata": {},
   "source": [
    "*In this notebook we wanna handle with 3 pre-processing-data kind.*\n",
    "- **Origin data**\n",
    "- **Feature selection data** (called *data_fs* in the following)\n",
    "- **PCA - using data** (called *data_pca* below)"
   ]
  },
  {
   "cell_type": "markdown",
   "metadata": {},
   "source": [
    "*So now we fly to prepare data !*"
   ]
  },
  {
   "cell_type": "markdown",
   "metadata": {},
   "source": [
    "# 3) Prepare data"
   ]
  },
  {
   "cell_type": "code",
   "execution_count": 18,
   "metadata": {},
   "outputs": [
    {
     "data": {
      "text/plain": [
       "<matplotlib.axes._subplots.AxesSubplot at 0x75979c64c8>"
      ]
     },
     "execution_count": 18,
     "metadata": {},
     "output_type": "execute_result"
    },
    {
     "data": {
      "image/png": "[encoded data removed]",
      "text/plain": [
       "<Figure size 864x432 with 1 Axes>"
      ]
     },
     "metadata": {},
     "output_type": "display_data"
    }
   ],
   "source": [
    "plt.figure(figsize=(12,6))\n",
    "plt.title('Classes distribution of train set',fontsize = 30)\n",
    "plt.xlabel('Classes',fontsize=20)\n",
    "plt.ylabel('Number of data points')\n",
    "sns.countplot(x='label',data=train_set)"
   ]
  },
  {
   "cell_type": "markdown",
   "metadata": {},
   "source": [
    "*10 classes have the same number of data points.Let's say 6000. This means here is not imbalancing problem !*"
   ]
  },
  {
   "cell_type": "markdown",
   "metadata": {},
   "source": [
    "## 3a) Prepare data by using PCA"
   ]
  },
  {
   "cell_type": "code",
   "execution_count": 19,
   "metadata": {},
   "outputs": [],
   "source": [
    "data_pca = create_new_data_by_pca(data,484)"
   ]
  },
  {
   "cell_type": "markdown",
   "metadata": {},
   "source": [
    "## 3b) Prepare data by looking at correlation"
   ]
  },
  {
   "cell_type": "markdown",
   "metadata": {},
   "source": [
    "*Actually , when looking at above images , we can realise that large black spaces are available. That means there are quite many unimportant features. In other words, not so much columns are really correlated with label column. Let's see more*"
   ]
  },
  {
   "cell_type": "code",
   "execution_count": 20,
   "metadata": {},
   "outputs": [
    {
     "data": {
      "image/png": "[encoded data removed]",
      "text/plain": [
       "<Figure size 648x432 with 1 Axes>"
      ]
     },
     "metadata": {},
     "output_type": "display_data"
    }
   ],
   "source": [
    "plt.figure(figsize=(9,6))\n",
    "\n",
    "correlations = train_set.corr()['label'].drop('label')\n",
    "correlations.sort_values().plot(kind='barh')\n",
    "\n",
    "plt.title('Correlations to Label',fontsize=30)\n",
    "\n",
    "plt.show()"
   ]
  },
  {
   "cell_type": "markdown",
   "metadata": {},
   "source": [
    "*We choose features have absolute correlation value greater than 0.2*"
   ]
  },
  {
   "cell_type": "code",
   "execution_count": 21,
   "metadata": {},
   "outputs": [],
   "source": [
    "threshold = 0.2\n",
    "\n",
    "features = list(correlations[(abs(correlations)>threshold)].index.values)\n",
    "features.append('label')\n",
    "\n",
    "data_fs = data[features]"
   ]
  },
  {
   "cell_type": "markdown",
   "metadata": {},
   "source": [
    "*save **features** to reuse in next section*"
   ]
  },
  {
   "cell_type": "markdown",
   "metadata": {},
   "source": [
    "## 3c) Train test split"
   ]
  },
  {
   "cell_type": "markdown",
   "metadata": {},
   "source": [
    "*Because we handle with various data. It maybe so annoyed when train-test split implementation. Hence let's define a function to do that for us !*"
   ]
  },
  {
   "cell_type": "code",
   "execution_count": 22,
   "metadata": {},
   "outputs": [],
   "source": [
    "def split_data(data):\n",
    "    \n",
    "    X = data.drop('label',axis=1)\n",
    "    y = data['label']\n",
    "\n",
    "    X_train, X_test, y_train, y_test = train_test_split(X.values, y.values, test_size=0.2, stratify=y, random_state=102)\n",
    "\n",
    "    return (X_train, X_test, y_train, y_test)"
   ]
  },
  {
   "cell_type": "markdown",
   "metadata": {},
   "source": [
    "# 4)  Selecting model"
   ]
  },
  {
   "cell_type": "markdown",
   "metadata": {},
   "source": [
    "*As discussed above , we gonna walk through some ensemble leanring. But before that , try some popular classifiers !*"
   ]
  },
  {
   "cell_type": "markdown",
   "metadata": {},
   "source": [
    "*First of all , let's import all models we need*"
   ]
  },
  {
   "cell_type": "markdown",
   "metadata": {},
   "source": [
    "## 4a) Very popular classifiers"
   ]
  },
  {
   "cell_type": "markdown",
   "metadata": {},
   "source": [
    "*For the very first , we build a set of popular classifiers*"
   ]
  },
  {
   "cell_type": "code",
   "execution_count": 23,
   "metadata": {},
   "outputs": [],
   "source": [
    "base_classifiers = [('Decision Tree', DecisionTreeClassifier()),\n",
    "                    ('Naive Bayes', GaussianNB()),\n",
    "                    ('Support Vector Machine', SVC()),\n",
    "                    ('K-Nearest Neighbors', KNeighborsClassifier()),\n",
    "                    ('Logistic Regression', LogisticRegression())]"
   ]
  },
  {
   "cell_type": "markdown",
   "metadata": {},
   "source": [
    "*And now define a function to evaluate them. Remember that we are considering on sample size 5000*"
   ]
  },
  {
   "cell_type": "code",
   "execution_count": 24,
   "metadata": {},
   "outputs": [],
   "source": [
    "def base_learners_evaluations(data):\n",
    "    X_train, X_test, y_train, y_test = split_data(data)\n",
    "    \n",
    "    idx = []\n",
    "    scores = {'F1 score': [], 'Recall':[]}\n",
    "    for bc in base_classifiers:\n",
    "        lr = bc[1]\n",
    "        lr.fit(X_train, y_train)\n",
    "\n",
    "        predictions = lr.predict(X_test)\n",
    "\n",
    "        idx.append(bc[0])\n",
    "        scores['F1 score'].append(metrics.f1_score(y_test, predictions,average='micro'))\n",
    "        scores['Recall'].append(metrics.recall_score(y_test, predictions,average='micro'))\n",
    "        frame_ = pd.DataFrame(data=scores, index=idx)\n",
    "    return frame_.values"
   ]
  },
  {
   "cell_type": "markdown",
   "metadata": {},
   "source": [
    "*To be easy to read results of models , let's define a visualise function*"
   ]
  },
  {
   "cell_type": "code",
   "execution_count": 25,
   "metadata": {},
   "outputs": [],
   "source": [
    "def visualize_result_model(lyst_1,lyst_2,lyst_3,model_tuple=None,title='F1 Score') :\n",
    "    fig, ax = plt.subplots(figsize=(15,7))\n",
    "    x = np.arange(len(model_tuple))\n",
    "    width = 0.25         # the width of the bars\n",
    "    p1 = ax.bar(x - width, lyst_1 , width)\n",
    "    p2 = ax.bar(x , lyst_2 , width)\n",
    "    p3 = ax.bar(x + width , lyst_3 , width)\n",
    "\n",
    "    ax.set_title(title,fontsize=25)\n",
    "    ax.set_xlabel('Models',fontsize=20)\n",
    "    ax.set_ylabel('score',fontsize=20)\n",
    "    ax.set_xticks(x + width / 2)\n",
    "    ax.set_xticklabels(model_tuple)\n",
    "\n",
    "    ax.legend((p1[0], p2[0], p3[0]), ('Origin Data', 'Filtered Data 437','PCA Data 484'))\n",
    "    # ax.yaxis.set_units(inch)\n",
    "    ax.autoscale_view()\n",
    "\n",
    "    plt.show()"
   ]
  },
  {
   "cell_type": "markdown",
   "metadata": {},
   "source": [
    "*Here below our very first learning !*"
   ]
  },
  {
   "cell_type": "code",
   "execution_count": 26,
   "metadata": {},
   "outputs": [],
   "source": [
    "def the_very_first_learning(data,data_fs=data_fs,data_pca=data_pca) :\n",
    "    f1_lyst_1 , f1_lyst_2 , f1_lyst_3 = [] , [] , []\n",
    "    recall_lyst_1 , recall_lyst_2 , recall_lyst_3 = [] , [] , []\n",
    "    \n",
    "    data_frame_value_ = base_learners_evaluations(data)\n",
    "    data_fs_frame_value_ = base_learners_evaluations(data_fs)\n",
    "    data_pca_frame_value_ = base_learners_evaluations(data_pca)\n",
    "\n",
    "    for i in range(5) :\n",
    "        f1_lyst_1.append(data_frame_value_[i,0])\n",
    "        f1_lyst_2.append(data_fs_frame_value_[i,0])\n",
    "        f1_lyst_3.append(data_pca_frame_value_[i,0])\n",
    "    \n",
    "    for i in range(5) :\n",
    "        recall_lyst_1.append(data_frame_value_[i,1])\n",
    "        recall_lyst_2.append(data_fs_frame_value_[i,1])\n",
    "        recall_lyst_3.append(data_pca_frame_value_[i,1])\n",
    "    return f1_lyst_1 , f1_lyst_2 , f1_lyst_3 , recall_lyst_1 , recall_lyst_2 , recall_lyst_3"
   ]
  },
  {
   "cell_type": "code",
   "execution_count": 27,
   "metadata": {},
   "outputs": [],
   "source": [
    "# frame_values = base_learners_evaluations(data)"
   ]
  },
  {
   "cell_type": "code",
   "execution_count": 28,
   "metadata": {},
   "outputs": [],
   "source": [
    "# frame_values"
   ]
  },
  {
   "cell_type": "code",
   "execution_count": 29,
   "metadata": {},
   "outputs": [
    {
     "name": "stderr",
     "output_type": "stream",
     "text": [
      "C:\\Users\\ASUS\\Miniconda3\\envs\\cs_ftmle\\lib\\site-packages\\sklearn\\linear_model\\_logistic.py:939: ConvergenceWarning: lbfgs failed to converge (status=1):\n",
      "STOP: TOTAL NO. of ITERATIONS REACHED LIMIT.\n",
      "\n",
      "Increase the number of iterations (max_iter) or scale the data as shown in:\n",
      "    https://scikit-learn.org/stable/modules/preprocessing.html.\n",
      "Please also refer to the documentation for alternative solver options:\n",
      "    https://scikit-learn.org/stable/modules/linear_model.html#logistic-regression\n",
      "  extra_warning_msg=_LOGISTIC_SOLVER_CONVERGENCE_MSG)\n",
      "C:\\Users\\ASUS\\Miniconda3\\envs\\cs_ftmle\\lib\\site-packages\\sklearn\\linear_model\\_logistic.py:939: ConvergenceWarning: lbfgs failed to converge (status=1):\n",
      "STOP: TOTAL NO. of ITERATIONS REACHED LIMIT.\n",
      "\n",
      "Increase the number of iterations (max_iter) or scale the data as shown in:\n",
      "    https://scikit-learn.org/stable/modules/preprocessing.html.\n",
      "Please also refer to the documentation for alternative solver options:\n",
      "    https://scikit-learn.org/stable/modules/linear_model.html#logistic-regression\n",
      "  extra_warning_msg=_LOGISTIC_SOLVER_CONVERGENCE_MSG)\n",
      "C:\\Users\\ASUS\\Miniconda3\\envs\\cs_ftmle\\lib\\site-packages\\sklearn\\linear_model\\_logistic.py:939: ConvergenceWarning: lbfgs failed to converge (status=1):\n",
      "STOP: TOTAL NO. of ITERATIONS REACHED LIMIT.\n",
      "\n",
      "Increase the number of iterations (max_iter) or scale the data as shown in:\n",
      "    https://scikit-learn.org/stable/modules/preprocessing.html.\n",
      "Please also refer to the documentation for alternative solver options:\n",
      "    https://scikit-learn.org/stable/modules/linear_model.html#logistic-regression\n",
      "  extra_warning_msg=_LOGISTIC_SOLVER_CONVERGENCE_MSG)\n"
     ]
    }
   ],
   "source": [
    "a , b , c , d , e , f = the_very_first_learning(data)"
   ]
  },
  {
   "cell_type": "code",
   "execution_count": 30,
   "metadata": {},
   "outputs": [
    {
     "data": {
      "image/png": "[encoded data removed]",
      "text/plain": [
       "<Figure size 1080x504 with 1 Axes>"
      ]
     },
     "metadata": {},
     "output_type": "display_data"
    }
   ],
   "source": [
    "visualize_result_model(a,b,c,('Decision Tree','Naive Bayes','Support Vector Machine','K-Nearest Neighbors','Logistic Regression'))"
   ]
  },
  {
   "cell_type": "code",
   "execution_count": 31,
   "metadata": {},
   "outputs": [
    {
     "data": {
      "image/png": "[encoded data removed]",
      "text/plain": [
       "<Figure size 1080x504 with 1 Axes>"
      ]
     },
     "metadata": {},
     "output_type": "display_data"
    }
   ],
   "source": [
    "visualize_result_model(d,e,f,('Decision Tree','Naive Bayes','Support Vector Machine','K-Nearest Neighbors','Logistic Regression'),title='Recall')"
   ]
  },
  {
   "cell_type": "markdown",
   "metadata": {},
   "source": [
    "*Now move on to some ensemble learnings !*"
   ]
  },
  {
   "cell_type": "markdown",
   "metadata": {},
   "source": [
    "## 4b) Ensemble learning"
   ]
  },
  {
   "cell_type": "code",
   "execution_count": 32,
   "metadata": {},
   "outputs": [],
   "source": [
    "models_comparison = {}"
   ]
  },
  {
   "cell_type": "code",
   "execution_count": 33,
   "metadata": {},
   "outputs": [],
   "source": [
    "def ensemble_evaluation(data, model, label='Original'):\n",
    "    X_train, X_test, y_train, y_test = split_data(data)\n",
    "    model.fit(X_train, y_train)\n",
    "    predictions = model.predict(X_test)       \n",
    "    return pd.DataFrame({'F1 Score': [metrics.f1_score(y_test, predictions,average='micro')],\n",
    "                         'Recall': [metrics.recall_score(y_test, predictions,average='micro')]}, index=[label]) "
   ]
  },
  {
   "cell_type": "markdown",
   "metadata": {},
   "source": [
    "### 4b.1) Voting"
   ]
  },
  {
   "cell_type": "code",
   "execution_count": 34,
   "metadata": {},
   "outputs": [],
   "source": [
    "base_classifiers_1 = [('Decision Tree', DecisionTreeClassifier()),\n",
    "                    ('Naive Bayes', GaussianNB()),\n",
    "                    ('Support Vector Machine', SVC()),\n",
    "                    ('K-Nearest Neighbors', KNeighborsClassifier()),\n",
    "                    ('Logistic Regression', LogisticRegression())]\n",
    "\n",
    "ensemble_1 = VotingClassifier(base_classifiers_1)    "
   ]
  },
  {
   "cell_type": "code",
   "execution_count": 35,
   "metadata": {},
   "outputs": [],
   "source": [
    "def second_learning_by_voting(data,data_fs=data_fs,data_pca=data_pca) :\n",
    "    ensemble_data_origin = ensemble_evaluation(data, ensemble_1, label='Original 784')\n",
    "    ensemble_data_filtered = ensemble_evaluation(data_fs, ensemble_1, label='Filtered 437')\n",
    "    ensemble_data_pca = ensemble_evaluation(data_pca, ensemble_1, label='PCA 484')\n",
    "    models_comparison['Voting_1'] = pd.concat([ensemble_data_origin, ensemble_data_filtered,ensemble_data_pca], axis=0)\n",
    "    return models_comparison['Voting_1']"
   ]
  },
  {
   "cell_type": "code",
   "execution_count": 36,
   "metadata": {},
   "outputs": [
    {
     "name": "stderr",
     "output_type": "stream",
     "text": [
      "C:\\Users\\ASUS\\Miniconda3\\envs\\cs_ftmle\\lib\\site-packages\\sklearn\\linear_model\\_logistic.py:939: ConvergenceWarning: lbfgs failed to converge (status=1):\n",
      "STOP: TOTAL NO. of ITERATIONS REACHED LIMIT.\n",
      "\n",
      "Increase the number of iterations (max_iter) or scale the data as shown in:\n",
      "    https://scikit-learn.org/stable/modules/preprocessing.html.\n",
      "Please also refer to the documentation for alternative solver options:\n",
      "    https://scikit-learn.org/stable/modules/linear_model.html#logistic-regression\n",
      "  extra_warning_msg=_LOGISTIC_SOLVER_CONVERGENCE_MSG)\n",
      "C:\\Users\\ASUS\\Miniconda3\\envs\\cs_ftmle\\lib\\site-packages\\sklearn\\linear_model\\_logistic.py:939: ConvergenceWarning: lbfgs failed to converge (status=1):\n",
      "STOP: TOTAL NO. of ITERATIONS REACHED LIMIT.\n",
      "\n",
      "Increase the number of iterations (max_iter) or scale the data as shown in:\n",
      "    https://scikit-learn.org/stable/modules/preprocessing.html.\n",
      "Please also refer to the documentation for alternative solver options:\n",
      "    https://scikit-learn.org/stable/modules/linear_model.html#logistic-regression\n",
      "  extra_warning_msg=_LOGISTIC_SOLVER_CONVERGENCE_MSG)\n",
      "C:\\Users\\ASUS\\Miniconda3\\envs\\cs_ftmle\\lib\\site-packages\\sklearn\\linear_model\\_logistic.py:939: ConvergenceWarning: lbfgs failed to converge (status=1):\n",
      "STOP: TOTAL NO. of ITERATIONS REACHED LIMIT.\n",
      "\n",
      "Increase the number of iterations (max_iter) or scale the data as shown in:\n",
      "    https://scikit-learn.org/stable/modules/preprocessing.html.\n",
      "Please also refer to the documentation for alternative solver options:\n",
      "    https://scikit-learn.org/stable/modules/linear_model.html#logistic-regression\n",
      "  extra_warning_msg=_LOGISTIC_SOLVER_CONVERGENCE_MSG)\n"
     ]
    }
   ],
   "source": [
    "second_result = second_learning_by_voting(data)"
   ]
  },
  {
   "cell_type": "code",
   "execution_count": 37,
   "metadata": {},
   "outputs": [
    {
     "name": "stdout",
     "output_type": "stream",
     "text": [
      "Voting evaluation\n"
     ]
    },
    {
     "data": {
      "text/html": [
       "<div>\n",
       "<style scoped>\n",
       "    .dataframe tbody tr th:only-of-type {\n",
       "        vertical-align: middle;\n",
       "    }\n",
       "\n",
       "    .dataframe tbody tr th {\n",
       "        vertical-align: top;\n",
       "    }\n",
       "\n",
       "    .dataframe thead th {\n",
       "        text-align: right;\n",
       "    }\n",
       "</style>\n",
       "<table border=\"1\" class=\"dataframe\">\n",
       "  <thead>\n",
       "    <tr style=\"text-align: right;\">\n",
       "      <th></th>\n",
       "      <th>F1 Score</th>\n",
       "      <th>Recall</th>\n",
       "    </tr>\n",
       "  </thead>\n",
       "  <tbody>\n",
       "    <tr>\n",
       "      <th>Original 784</th>\n",
       "      <td>0.843</td>\n",
       "      <td>0.843</td>\n",
       "    </tr>\n",
       "    <tr>\n",
       "      <th>Filtered 437</th>\n",
       "      <td>0.840</td>\n",
       "      <td>0.840</td>\n",
       "    </tr>\n",
       "    <tr>\n",
       "      <th>PCA 484</th>\n",
       "      <td>0.832</td>\n",
       "      <td>0.832</td>\n",
       "    </tr>\n",
       "  </tbody>\n",
       "</table>\n",
       "</div>"
      ],
      "text/plain": [
       "              F1 Score  Recall\n",
       "Original 784     0.843   0.843\n",
       "Filtered 437     0.840   0.840\n",
       "PCA 484          0.832   0.832"
      ]
     },
     "execution_count": 37,
     "metadata": {},
     "output_type": "execute_result"
    }
   ],
   "source": [
    "print('Voting evaluation')\n",
    "second_result"
   ]
  },
  {
   "cell_type": "markdown",
   "metadata": {},
   "source": [
    "### 4b.2) Adding more decision trees"
   ]
  },
  {
   "cell_type": "code",
   "execution_count": 38,
   "metadata": {},
   "outputs": [],
   "source": [
    "base_classifiers_2 = [('Decision Tree 3', DecisionTreeClassifier(max_depth=3)),\n",
    "                    ('Decision Tree 5', DecisionTreeClassifier(max_depth=5)),\n",
    "                    ('Decision Tree 8', DecisionTreeClassifier(max_depth=8)),\n",
    "                    ('Naive Bayes', GaussianNB()),\n",
    "                    ('Support Vector Machine', SVC()),\n",
    "                    ('K-Nearest Neighbors', KNeighborsClassifier()),\n",
    "                    ('Logistic Regression', LogisticRegression())]\n",
    "\n",
    "ensemble_2 = VotingClassifier(base_classifiers_2)"
   ]
  },
  {
   "cell_type": "code",
   "execution_count": 39,
   "metadata": {},
   "outputs": [],
   "source": [
    "def third_learning_by_voting_and_adding_more_decision_tree(data,data_fs=data_fs,data_pca=data_pca) :\n",
    "    ensemble_data_origin = ensemble_evaluation(data, ensemble_2, label='Original 784')\n",
    "    ensemble_data_filtered = ensemble_evaluation(data_fs, ensemble_2, label='Filtered 437')\n",
    "    ensemble_data_pca = ensemble_evaluation(data_pca, ensemble_2, label='PCA 484')\n",
    "    models_comparison['Voting_2'] = pd.concat([ensemble_data_origin, ensemble_data_filtered,ensemble_data_pca], axis=0)\n",
    "    return models_comparison['Voting_2']"
   ]
  },
  {
   "cell_type": "code",
   "execution_count": 40,
   "metadata": {},
   "outputs": [
    {
     "name": "stderr",
     "output_type": "stream",
     "text": [
      "C:\\Users\\ASUS\\Miniconda3\\envs\\cs_ftmle\\lib\\site-packages\\sklearn\\linear_model\\_logistic.py:939: ConvergenceWarning: lbfgs failed to converge (status=1):\n",
      "STOP: TOTAL NO. of ITERATIONS REACHED LIMIT.\n",
      "\n",
      "Increase the number of iterations (max_iter) or scale the data as shown in:\n",
      "    https://scikit-learn.org/stable/modules/preprocessing.html.\n",
      "Please also refer to the documentation for alternative solver options:\n",
      "    https://scikit-learn.org/stable/modules/linear_model.html#logistic-regression\n",
      "  extra_warning_msg=_LOGISTIC_SOLVER_CONVERGENCE_MSG)\n",
      "C:\\Users\\ASUS\\Miniconda3\\envs\\cs_ftmle\\lib\\site-packages\\sklearn\\linear_model\\_logistic.py:939: ConvergenceWarning: lbfgs failed to converge (status=1):\n",
      "STOP: TOTAL NO. of ITERATIONS REACHED LIMIT.\n",
      "\n",
      "Increase the number of iterations (max_iter) or scale the data as shown in:\n",
      "    https://scikit-learn.org/stable/modules/preprocessing.html.\n",
      "Please also refer to the documentation for alternative solver options:\n",
      "    https://scikit-learn.org/stable/modules/linear_model.html#logistic-regression\n",
      "  extra_warning_msg=_LOGISTIC_SOLVER_CONVERGENCE_MSG)\n",
      "C:\\Users\\ASUS\\Miniconda3\\envs\\cs_ftmle\\lib\\site-packages\\sklearn\\linear_model\\_logistic.py:939: ConvergenceWarning: lbfgs failed to converge (status=1):\n",
      "STOP: TOTAL NO. of ITERATIONS REACHED LIMIT.\n",
      "\n",
      "Increase the number of iterations (max_iter) or scale the data as shown in:\n",
      "    https://scikit-learn.org/stable/modules/preprocessing.html.\n",
      "Please also refer to the documentation for alternative solver options:\n",
      "    https://scikit-learn.org/stable/modules/linear_model.html#logistic-regression\n",
      "  extra_warning_msg=_LOGISTIC_SOLVER_CONVERGENCE_MSG)\n"
     ]
    }
   ],
   "source": [
    "third_result = third_learning_by_voting_and_adding_more_decision_tree(data)"
   ]
  },
  {
   "cell_type": "code",
   "execution_count": 41,
   "metadata": {},
   "outputs": [
    {
     "name": "stdout",
     "output_type": "stream",
     "text": [
      "Adding more decision trees\n"
     ]
    },
    {
     "data": {
      "text/html": [
       "<div>\n",
       "<style scoped>\n",
       "    .dataframe tbody tr th:only-of-type {\n",
       "        vertical-align: middle;\n",
       "    }\n",
       "\n",
       "    .dataframe tbody tr th {\n",
       "        vertical-align: top;\n",
       "    }\n",
       "\n",
       "    .dataframe thead th {\n",
       "        text-align: right;\n",
       "    }\n",
       "</style>\n",
       "<table border=\"1\" class=\"dataframe\">\n",
       "  <thead>\n",
       "    <tr style=\"text-align: right;\">\n",
       "      <th></th>\n",
       "      <th>F1 Score</th>\n",
       "      <th>Recall</th>\n",
       "    </tr>\n",
       "  </thead>\n",
       "  <tbody>\n",
       "    <tr>\n",
       "      <th>Original 784</th>\n",
       "      <td>0.820</td>\n",
       "      <td>0.820</td>\n",
       "    </tr>\n",
       "    <tr>\n",
       "      <th>Filtered 437</th>\n",
       "      <td>0.810</td>\n",
       "      <td>0.810</td>\n",
       "    </tr>\n",
       "    <tr>\n",
       "      <th>PCA 484</th>\n",
       "      <td>0.824</td>\n",
       "      <td>0.824</td>\n",
       "    </tr>\n",
       "  </tbody>\n",
       "</table>\n",
       "</div>"
      ],
      "text/plain": [
       "              F1 Score  Recall\n",
       "Original 784     0.820   0.820\n",
       "Filtered 437     0.810   0.810\n",
       "PCA 484          0.824   0.824"
      ]
     },
     "execution_count": 41,
     "metadata": {},
     "output_type": "execute_result"
    }
   ],
   "source": [
    "print('Adding more decision trees')\n",
    "third_result"
   ]
  },
  {
   "cell_type": "markdown",
   "metadata": {},
   "source": [
    "### 4b.3) Bagging"
   ]
  },
  {
   "cell_type": "code",
   "execution_count": 42,
   "metadata": {},
   "outputs": [],
   "source": [
    "ensemble_3 = BaggingClassifier(n_estimators=10,\n",
    "                             base_estimator=DecisionTreeClassifier(max_depth=5))"
   ]
  },
  {
   "cell_type": "code",
   "execution_count": 43,
   "metadata": {},
   "outputs": [],
   "source": [
    "def fourth_learning_by_bagging(data,data_fs=data_fs,data_pca=data_pca) :\n",
    "    ensemble_data_origin = ensemble_evaluation(data, ensemble_3, label='Original 784')\n",
    "    ensemble_data_filtered = ensemble_evaluation(data_fs, ensemble_3, label='Filtered 437')\n",
    "    ensemble_data_pca = ensemble_evaluation(data_pca, ensemble_3, label='PCA 484')\n",
    "    models_comparison['Bagging'] = pd.concat([ensemble_data_origin, ensemble_data_filtered,ensemble_data_pca], axis=0)\n",
    "    return models_comparison['Bagging']"
   ]
  },
  {
   "cell_type": "code",
   "execution_count": 44,
   "metadata": {
    "scrolled": true
   },
   "outputs": [],
   "source": [
    "fourth_result = fourth_learning_by_bagging(data)"
   ]
  },
  {
   "cell_type": "code",
   "execution_count": 45,
   "metadata": {},
   "outputs": [
    {
     "name": "stdout",
     "output_type": "stream",
     "text": [
      "Bagging evaluation\n"
     ]
    },
    {
     "data": {
      "text/html": [
       "<div>\n",
       "<style scoped>\n",
       "    .dataframe tbody tr th:only-of-type {\n",
       "        vertical-align: middle;\n",
       "    }\n",
       "\n",
       "    .dataframe tbody tr th {\n",
       "        vertical-align: top;\n",
       "    }\n",
       "\n",
       "    .dataframe thead th {\n",
       "        text-align: right;\n",
       "    }\n",
       "</style>\n",
       "<table border=\"1\" class=\"dataframe\">\n",
       "  <thead>\n",
       "    <tr style=\"text-align: right;\">\n",
       "      <th></th>\n",
       "      <th>F1 Score</th>\n",
       "      <th>Recall</th>\n",
       "    </tr>\n",
       "  </thead>\n",
       "  <tbody>\n",
       "    <tr>\n",
       "      <th>Original 784</th>\n",
       "      <td>0.736</td>\n",
       "      <td>0.736</td>\n",
       "    </tr>\n",
       "    <tr>\n",
       "      <th>Filtered 437</th>\n",
       "      <td>0.741</td>\n",
       "      <td>0.741</td>\n",
       "    </tr>\n",
       "    <tr>\n",
       "      <th>PCA 484</th>\n",
       "      <td>0.659</td>\n",
       "      <td>0.659</td>\n",
       "    </tr>\n",
       "  </tbody>\n",
       "</table>\n",
       "</div>"
      ],
      "text/plain": [
       "              F1 Score  Recall\n",
       "Original 784     0.736   0.736\n",
       "Filtered 437     0.741   0.741\n",
       "PCA 484          0.659   0.659"
      ]
     },
     "execution_count": 45,
     "metadata": {},
     "output_type": "execute_result"
    }
   ],
   "source": [
    "print('Bagging evaluation')\n",
    "fourth_result"
   ]
  },
  {
   "cell_type": "markdown",
   "metadata": {},
   "source": [
    "*Let's try to increase max_depth*"
   ]
  },
  {
   "cell_type": "markdown",
   "metadata": {},
   "source": [
    "### 4b.4) Adaboost"
   ]
  },
  {
   "cell_type": "code",
   "execution_count": 46,
   "metadata": {},
   "outputs": [],
   "source": [
    "ensemble_4 = AdaBoostClassifier(n_estimators=80, learning_rate=0.01)"
   ]
  },
  {
   "cell_type": "code",
   "execution_count": 47,
   "metadata": {},
   "outputs": [],
   "source": [
    "def fifth_learning_by_Adaboost(data,data_fs=data_fs,data_pca=data_pca) :\n",
    "    ensemble_data_origin = ensemble_evaluation(data, ensemble_4 , label='Original 784')\n",
    "    ensemble_data_filtered = ensemble_evaluation(data_fs, ensemble_4 , label='Filtered 437')\n",
    "    ensemble_data_pca = ensemble_evaluation(data_pca, ensemble_4 , label='PCA 484')\n",
    "    models_comparison['Adaboost'] = pd.concat([ensemble_data_origin, ensemble_data_filtered,ensemble_data_pca], axis=0)\n",
    "    return models_comparison['Adaboost']"
   ]
  },
  {
   "cell_type": "code",
   "execution_count": 48,
   "metadata": {},
   "outputs": [],
   "source": [
    "fifth_result = fifth_learning_by_Adaboost(data)"
   ]
  },
  {
   "cell_type": "code",
   "execution_count": 49,
   "metadata": {},
   "outputs": [
    {
     "name": "stdout",
     "output_type": "stream",
     "text": [
      "AdaBoost evaluation\n"
     ]
    },
    {
     "data": {
      "text/html": [
       "<div>\n",
       "<style scoped>\n",
       "    .dataframe tbody tr th:only-of-type {\n",
       "        vertical-align: middle;\n",
       "    }\n",
       "\n",
       "    .dataframe tbody tr th {\n",
       "        vertical-align: top;\n",
       "    }\n",
       "\n",
       "    .dataframe thead th {\n",
       "        text-align: right;\n",
       "    }\n",
       "</style>\n",
       "<table border=\"1\" class=\"dataframe\">\n",
       "  <thead>\n",
       "    <tr style=\"text-align: right;\">\n",
       "      <th></th>\n",
       "      <th>F1 Score</th>\n",
       "      <th>Recall</th>\n",
       "    </tr>\n",
       "  </thead>\n",
       "  <tbody>\n",
       "    <tr>\n",
       "      <th>Original 784</th>\n",
       "      <td>0.296</td>\n",
       "      <td>0.296</td>\n",
       "    </tr>\n",
       "    <tr>\n",
       "      <th>Filtered 437</th>\n",
       "      <td>0.296</td>\n",
       "      <td>0.296</td>\n",
       "    </tr>\n",
       "    <tr>\n",
       "      <th>PCA 484</th>\n",
       "      <td>0.392</td>\n",
       "      <td>0.392</td>\n",
       "    </tr>\n",
       "  </tbody>\n",
       "</table>\n",
       "</div>"
      ],
      "text/plain": [
       "              F1 Score  Recall\n",
       "Original 784     0.296   0.296\n",
       "Filtered 437     0.296   0.296\n",
       "PCA 484          0.392   0.392"
      ]
     },
     "execution_count": 49,
     "metadata": {},
     "output_type": "execute_result"
    }
   ],
   "source": [
    "print('AdaBoost evaluation')\n",
    "fifth_result"
   ]
  },
  {
   "cell_type": "markdown",
   "metadata": {},
   "source": [
    "### 4b.5) Random Forest"
   ]
  },
  {
   "cell_type": "code",
   "execution_count": 50,
   "metadata": {},
   "outputs": [],
   "source": [
    "ensemble_5 = RandomForestClassifier(n_estimators=50, criterion=\"entropy\", n_jobs=4)"
   ]
  },
  {
   "cell_type": "code",
   "execution_count": 51,
   "metadata": {},
   "outputs": [],
   "source": [
    "def sixth_learning_by_Random_Forest(data,data_fs=data_fs,data_pca=data_pca) :\n",
    "    ensemble_data_origin = ensemble_evaluation(data, ensemble_5 , label='Original 784')\n",
    "    ensemble_data_filtered = ensemble_evaluation(data_fs, ensemble_5 , label='Filtered 437')\n",
    "    ensemble_data_pca = ensemble_evaluation(data_pca, ensemble_5 , label='PCA 484')\n",
    "    models_comparison['Random Forest'] = pd.concat([ensemble_data_origin, ensemble_data_filtered,ensemble_data_pca], axis=0)\n",
    "    return models_comparison['Random Forest']"
   ]
  },
  {
   "cell_type": "code",
   "execution_count": 52,
   "metadata": {},
   "outputs": [],
   "source": [
    "sixth_result = sixth_learning_by_Random_Forest(data)"
   ]
  },
  {
   "cell_type": "code",
   "execution_count": 53,
   "metadata": {},
   "outputs": [
    {
     "name": "stdout",
     "output_type": "stream",
     "text": [
      "Random forest evaluation\n"
     ]
    },
    {
     "data": {
      "text/html": [
       "<div>\n",
       "<style scoped>\n",
       "    .dataframe tbody tr th:only-of-type {\n",
       "        vertical-align: middle;\n",
       "    }\n",
       "\n",
       "    .dataframe tbody tr th {\n",
       "        vertical-align: top;\n",
       "    }\n",
       "\n",
       "    .dataframe thead th {\n",
       "        text-align: right;\n",
       "    }\n",
       "</style>\n",
       "<table border=\"1\" class=\"dataframe\">\n",
       "  <thead>\n",
       "    <tr style=\"text-align: right;\">\n",
       "      <th></th>\n",
       "      <th>F1 Score</th>\n",
       "      <th>Recall</th>\n",
       "    </tr>\n",
       "  </thead>\n",
       "  <tbody>\n",
       "    <tr>\n",
       "      <th>Original 784</th>\n",
       "      <td>0.845</td>\n",
       "      <td>0.845</td>\n",
       "    </tr>\n",
       "    <tr>\n",
       "      <th>Filtered 437</th>\n",
       "      <td>0.834</td>\n",
       "      <td>0.834</td>\n",
       "    </tr>\n",
       "    <tr>\n",
       "      <th>PCA 484</th>\n",
       "      <td>0.798</td>\n",
       "      <td>0.798</td>\n",
       "    </tr>\n",
       "  </tbody>\n",
       "</table>\n",
       "</div>"
      ],
      "text/plain": [
       "              F1 Score  Recall\n",
       "Original 784     0.845   0.845\n",
       "Filtered 437     0.834   0.834\n",
       "PCA 484          0.798   0.798"
      ]
     },
     "execution_count": 53,
     "metadata": {},
     "output_type": "execute_result"
    }
   ],
   "source": [
    "print('Random forest evaluation')\n",
    "sixth_result"
   ]
  },
  {
   "cell_type": "markdown",
   "metadata": {},
   "source": [
    "### 4b.6) XGBoost"
   ]
  },
  {
   "cell_type": "code",
   "execution_count": 55,
   "metadata": {},
   "outputs": [],
   "source": [
    "ensemble_6 = XGBClassifier(max_depth=5, n_jobs=4)"
   ]
  },
  {
   "cell_type": "code",
   "execution_count": 56,
   "metadata": {},
   "outputs": [],
   "source": [
    "def seventh_learning_by_XGBoost(data,data_fs=data_fs,data_pca=data_pca) :\n",
    "    ensemble_data_origin = ensemble_evaluation(data, ensemble_6 , label='Original 784')\n",
    "    ensemble_data_filtered = ensemble_evaluation(data_fs, ensemble_6 , label='Filtered 437')\n",
    "    ensemble_data_pca = ensemble_evaluation(data_pca, ensemble_6 , label='PCA 484')\n",
    "    models_comparison['XGBoost'] = pd.concat([ensemble_data_origin, ensemble_data_filtered,ensemble_data_pca], axis=0)\n",
    "    return models_comparison['XGBoost']"
   ]
  },
  {
   "cell_type": "code",
   "execution_count": 57,
   "metadata": {},
   "outputs": [],
   "source": [
    "seventh_result = seventh_learning_by_XGBoost(data)"
   ]
  },
  {
   "cell_type": "code",
   "execution_count": 58,
   "metadata": {},
   "outputs": [
    {
     "name": "stdout",
     "output_type": "stream",
     "text": [
      "XGBoost evaluation\n"
     ]
    },
    {
     "data": {
      "text/html": [
       "<div>\n",
       "<style scoped>\n",
       "    .dataframe tbody tr th:only-of-type {\n",
       "        vertical-align: middle;\n",
       "    }\n",
       "\n",
       "    .dataframe tbody tr th {\n",
       "        vertical-align: top;\n",
       "    }\n",
       "\n",
       "    .dataframe thead th {\n",
       "        text-align: right;\n",
       "    }\n",
       "</style>\n",
       "<table border=\"1\" class=\"dataframe\">\n",
       "  <thead>\n",
       "    <tr style=\"text-align: right;\">\n",
       "      <th></th>\n",
       "      <th>F1 Score</th>\n",
       "      <th>Recall</th>\n",
       "    </tr>\n",
       "  </thead>\n",
       "  <tbody>\n",
       "    <tr>\n",
       "      <th>Original 784</th>\n",
       "      <td>0.847</td>\n",
       "      <td>0.847</td>\n",
       "    </tr>\n",
       "    <tr>\n",
       "      <th>Filtered 437</th>\n",
       "      <td>0.846</td>\n",
       "      <td>0.846</td>\n",
       "    </tr>\n",
       "    <tr>\n",
       "      <th>PCA 484</th>\n",
       "      <td>0.824</td>\n",
       "      <td>0.824</td>\n",
       "    </tr>\n",
       "  </tbody>\n",
       "</table>\n",
       "</div>"
      ],
      "text/plain": [
       "              F1 Score  Recall\n",
       "Original 784     0.847   0.847\n",
       "Filtered 437     0.846   0.846\n",
       "PCA 484          0.824   0.824"
      ]
     },
     "execution_count": 58,
     "metadata": {},
     "output_type": "execute_result"
    }
   ],
   "source": [
    "print('XGBoost evaluation')\n",
    "seventh_result"
   ]
  },
  {
   "cell_type": "markdown",
   "metadata": {},
   "source": [
    "*All evaluations are stored in models_comparison dictionary. We can access to get score of desired data of desired model.Below is an example*"
   ]
  },
  {
   "cell_type": "code",
   "execution_count": 59,
   "metadata": {},
   "outputs": [
    {
     "data": {
      "text/plain": [
       "0.847"
      ]
     },
     "execution_count": 59,
     "metadata": {},
     "output_type": "execute_result"
    }
   ],
   "source": [
    "models_comparison['XGBoost']['F1 Score']['Original 784']"
   ]
  },
  {
   "cell_type": "markdown",
   "metadata": {},
   "source": [
    "### 4b.7) Visualize to compare models"
   ]
  },
  {
   "cell_type": "markdown",
   "metadata": {},
   "source": [
    "*Nice ! Now let's visualize them to select top 2 !*"
   ]
  },
  {
   "cell_type": "code",
   "execution_count": 60,
   "metadata": {},
   "outputs": [],
   "source": [
    "def plot_models_comparison(title='F1 Score'):\n",
    "    labels = models_comparison.keys()\n",
    "    original_data = [models_comparison[model][title]['Original 784'] for model in labels]\n",
    "    filtered_data = [models_comparison[model][title]['Filtered 437'] for model in labels]\n",
    "    pca_data = [models_comparison[model][title]['PCA 484'] for model in labels]\n",
    "\n",
    "    best_score_each_model = [max(original_data[i], filtered_data[i]) for i in range(len(original_data))]\n",
    "    labels = [x for _, x in sorted(zip(best_score_each_model, labels), key=lambda pair: pair[0])]\n",
    "    original_data = [x for _, x in sorted(zip(best_score_each_model, original_data), key=lambda pair: pair[0])]\n",
    "    filtered_data = [x for _, x in sorted(zip(best_score_each_model, filtered_data), key=lambda pair: pair[0])]\n",
    "    pca_data = [x for _, x in sorted(zip(best_score_each_model, filtered_data), key=lambda pair: pair[0])]\n",
    "\n",
    "    x = np.arange(len(labels))  # the label locations\n",
    "    width = 0.2  # the width of the bars\n",
    "\n",
    "    fig, ax = plt.subplots(figsize=(15,7))\n",
    "    rects1 = ax.bar(x - width, original_data, width, label='Original Data')\n",
    "    rects2 = ax.bar(x , filtered_data, width, label='Filtered Data')\n",
    "    rects3 = ax.bar(x + width, pca_data, width, label='PCA Data')\n",
    "\n",
    "    # Add some text for labels, title and custom x-axis tick labels, etc.\n",
    "    ax.set_ylabel('Scores',fontsize=30)\n",
    "    ax.set_xlabel('Models',fontsize=30)\n",
    "    ax.set_title(title+\" over sample size 5000\",fontsize=35)\n",
    "    ax.set_xticks(x)\n",
    "    ax.set_xticklabels(labels,fontsize=20)\n",
    "    ax.legend()\n",
    "\n",
    "    def autolabel(rects):\n",
    "        \"\"\"Attach a text label above each bar in *rects*, displaying its height.\"\"\"\n",
    "        for rect in rects:\n",
    "            height = rect.get_height()\n",
    "            ax.annotate('{0:.2f}'.format(height),\n",
    "                        xy=(rect.get_x() + rect.get_width() / 2, height),\n",
    "                        xytext=(0, 3),  # 3 points vertical offset\n",
    "                        textcoords=\"offset points\",\n",
    "                        ha='center', va='bottom')\n",
    "\n",
    "    autolabel(rects1)\n",
    "    autolabel(rects2)\n",
    "    autolabel(rects3)\n",
    "\n",
    "    fig.tight_layout()\n",
    "    \n",
    "    plt.show()"
   ]
  },
  {
   "cell_type": "code",
   "execution_count": 61,
   "metadata": {},
   "outputs": [
    {
     "data": {
      "image/png": "[encoded data removed]",
      "text/plain": [
       "<Figure size 1080x504 with 1 Axes>"
      ]
     },
     "metadata": {},
     "output_type": "display_data"
    }
   ],
   "source": [
    "plot_models_comparison('Recall')"
   ]
  },
  {
   "cell_type": "code",
   "execution_count": 62,
   "metadata": {},
   "outputs": [
    {
     "data": {
      "image/png": "[encoded data removed]",
      "text/plain": [
       "<Figure size 1080x504 with 1 Axes>"
      ]
     },
     "metadata": {},
     "output_type": "display_data"
    }
   ],
   "source": [
    "plot_models_comparison('F1 Score')"
   ]
  },
  {
   "cell_type": "markdown",
   "metadata": {},
   "source": [
    "*Maybe Xgboots and RandomForest are the best sofar.We gonna try to optimize them. However fine-tune XGBoost took us too much time !. Hence below we just mention RandomForest fine-tune*"
   ]
  },
  {
   "cell_type": "markdown",
   "metadata": {},
   "source": [
    "# 5) Optimize model"
   ]
  },
  {
   "cell_type": "markdown",
   "metadata": {},
   "source": [
    "### Origin data"
   ]
  },
  {
   "cell_type": "code",
   "execution_count": 63,
   "metadata": {},
   "outputs": [],
   "source": [
    "# X_train, X_test, y_train, y_test = split_data(data)"
   ]
  },
  {
   "cell_type": "code",
   "execution_count": 64,
   "metadata": {},
   "outputs": [],
   "source": [
    "# from sklearn.model_selection import RandomizedSearchCV\n",
    "# from scipy.stats import randint\n",
    "\n",
    "# param_distribs = {\n",
    "#         'n_estimators': randint(low=1, high=300),\n",
    "#         'max_depth': randint(low=1, high=30)\n",
    "# }\n",
    "\n",
    "# rfc = RandomForestClassifier()\n",
    "# rnd_search = RandomizedSearchCV(rfc, param_distributions=param_distribs,\n",
    "#                                 n_iter=10, cv=5, scoring='accuracy', random_state=42)\n",
    "# rnd_search.fit(X_train, y_train)"
   ]
  },
  {
   "cell_type": "code",
   "execution_count": 65,
   "metadata": {},
   "outputs": [],
   "source": [
    "# cvres = rnd_search.cv_results_\n",
    "# for mean_score, params in zip(cvres[\"mean_test_score\"], cvres[\"params\"]):\n",
    "#     print(np.sqrt(mean_score), params)"
   ]
  },
  {
   "cell_type": "markdown",
   "metadata": {},
   "source": [
    "*for origin data, ideal is max_depth 19 , n_estimators 215*"
   ]
  },
  {
   "cell_type": "markdown",
   "metadata": {},
   "source": [
    "# 6) Train on whole train data set"
   ]
  },
  {
   "cell_type": "markdown",
   "metadata": {},
   "source": [
    "*Now we move to train on whole train set with two models*\n",
    "- **Random forest** : *max_depth=21,n_estimators=258, criterion=\"entropy\", n_jobs=4*\n",
    "- **XGBoost** : *max_depth=5, n_jobs=-1*"
   ]
  },
  {
   "cell_type": "markdown",
   "metadata": {},
   "source": [
    "## 6a) Reading test set"
   ]
  },
  {
   "cell_type": "code",
   "execution_count": 66,
   "metadata": {},
   "outputs": [],
   "source": [
    "test_set = pd.read_csv('fashion-mnist_test.csv')"
   ]
  },
  {
   "cell_type": "code",
   "execution_count": 67,
   "metadata": {},
   "outputs": [
    {
     "data": {
      "text/plain": [
       "(10000, 785)"
      ]
     },
     "execution_count": 67,
     "metadata": {},
     "output_type": "execute_result"
    }
   ],
   "source": [
    "test_set.shape"
   ]
  },
  {
   "cell_type": "markdown",
   "metadata": {},
   "source": [
    "## 6b) Construct train and test function"
   ]
  },
  {
   "cell_type": "code",
   "execution_count": 68,
   "metadata": {},
   "outputs": [],
   "source": [
    "a = RandomForestClassifier(max_depth=21,n_estimators=258, criterion=\"entropy\", n_jobs=4)\n",
    "b = XGBClassifier(max_depth=5, n_jobs=-1)"
   ]
  },
  {
   "cell_type": "code",
   "execution_count": 69,
   "metadata": {},
   "outputs": [],
   "source": [
    "def train_rfc_xgbc(data,a,b) :\n",
    "    X_train = data.drop('label',axis=1)\n",
    "    y_train = data['label']\n",
    "    a.fit(X_train,y_train)\n",
    "    b.fit(X_train,y_train)\n",
    "    return a,b"
   ]
  },
  {
   "cell_type": "code",
   "execution_count": 70,
   "metadata": {},
   "outputs": [],
   "source": [
    "def test_rfc_xgbc(data,a,b) :\n",
    "    X_test = data.drop('label',axis = 1)\n",
    "    y_test = data['label']\n",
    "    \n",
    "    predictions_1 = a.predict(X_test)\n",
    "    predictions_2 = b.predict(X_test)\n",
    "    \n",
    "    rfc_result = pd.DataFrame({'F1 Score': [metrics.f1_score(y_test, predictions_1,average='micro')],\n",
    "                         'Recall': [metrics.recall_score(y_test, predictions_1,average='micro')]}, index=['Random Forest'])\n",
    "    \n",
    "    xgbc_result = pd.DataFrame({'F1 Score': [metrics.f1_score(y_test, predictions_2,average='micro')],\n",
    "                         'Recall': [metrics.recall_score(y_test, predictions_2,average='micro')]}, index=['XGBoost'])\n",
    "    \n",
    "    return pd.concat([rfc_result, xgbc_result], axis=0)"
   ]
  },
  {
   "cell_type": "code",
   "execution_count": 71,
   "metadata": {},
   "outputs": [],
   "source": [
    "def visualize_confusion_matrix(data,model) :\n",
    "    X_test = data.drop('label',axis = 1)\n",
    "    y_test = data['label']\n",
    "    \n",
    "    predictions = model.predict(X_test)\n",
    "    cm = confusion_matrix(y_test, predictions)\n",
    "    plt.figure(figsize=(9,6))\n",
    "    plt.title(f'Confusion matrix',fontsize=30)\n",
    "    sns.heatmap(cm,cmap=\"YlGnBu\", annot=True, fmt=\"d\")\n",
    "    b, t = plt.ylim() # discover the values for bottom and top\n",
    "    b += 0.5 # Add 0.5 to the bottom\n",
    "    t -= 0.5 # Subtract 0.5 from the top\n",
    "    plt.ylim(b, t) # update the ylim(bottom, top) values\n",
    "    plt.show() "
   ]
  },
  {
   "cell_type": "markdown",
   "metadata": {},
   "source": [
    "## 6c) Training on Origin Data"
   ]
  },
  {
   "cell_type": "code",
   "execution_count": 72,
   "metadata": {},
   "outputs": [],
   "source": [
    "rfc_origin , xgbc_origin = train_rfc_xgbc(train_set,a,b)"
   ]
  },
  {
   "cell_type": "code",
   "execution_count": 73,
   "metadata": {},
   "outputs": [],
   "source": [
    "result_origin = test_rfc_xgbc(test_set,rfc_origin , xgbc_origin)"
   ]
  },
  {
   "cell_type": "code",
   "execution_count": 74,
   "metadata": {},
   "outputs": [
    {
     "data": {
      "text/html": [
       "<div>\n",
       "<style scoped>\n",
       "    .dataframe tbody tr th:only-of-type {\n",
       "        vertical-align: middle;\n",
       "    }\n",
       "\n",
       "    .dataframe tbody tr th {\n",
       "        vertical-align: top;\n",
       "    }\n",
       "\n",
       "    .dataframe thead th {\n",
       "        text-align: right;\n",
       "    }\n",
       "</style>\n",
       "<table border=\"1\" class=\"dataframe\">\n",
       "  <thead>\n",
       "    <tr style=\"text-align: right;\">\n",
       "      <th></th>\n",
       "      <th>F1 Score</th>\n",
       "      <th>Recall</th>\n",
       "    </tr>\n",
       "  </thead>\n",
       "  <tbody>\n",
       "    <tr>\n",
       "      <th>Random Forest</th>\n",
       "      <td>0.8869</td>\n",
       "      <td>0.8869</td>\n",
       "    </tr>\n",
       "    <tr>\n",
       "      <th>XGBoost</th>\n",
       "      <td>0.8921</td>\n",
       "      <td>0.8921</td>\n",
       "    </tr>\n",
       "  </tbody>\n",
       "</table>\n",
       "</div>"
      ],
      "text/plain": [
       "               F1 Score  Recall\n",
       "Random Forest    0.8869  0.8869\n",
       "XGBoost          0.8921  0.8921"
      ]
     },
     "execution_count": 74,
     "metadata": {},
     "output_type": "execute_result"
    }
   ],
   "source": [
    "result_origin"
   ]
  },
  {
   "cell_type": "code",
   "execution_count": 75,
   "metadata": {},
   "outputs": [
    {
     "name": "stdout",
     "output_type": "stream",
     "text": [
      "Random forest on origin set\n"
     ]
    },
    {
     "data": {
      "image/png": "[encoded data removed]",
      "text/plain": [
       "<Figure size 648x432 with 2 Axes>"
      ]
     },
     "metadata": {},
     "output_type": "display_data"
    }
   ],
   "source": [
    "print('Random forest on origin set')\n",
    "visualize_confusion_matrix(test_set,rfc_origin)"
   ]
  },
  {
   "cell_type": "markdown",
   "metadata": {},
   "source": [
    "## Working on Filtered Data"
   ]
  },
  {
   "cell_type": "code",
   "execution_count": 76,
   "metadata": {},
   "outputs": [],
   "source": [
    "filtered_train_set = train_set[features]\n",
    "filtered_test_set = test_set[features]"
   ]
  },
  {
   "cell_type": "code",
   "execution_count": 77,
   "metadata": {},
   "outputs": [],
   "source": [
    "rfc_filtered , xgbc_filtered = train_rfc_xgbc(filtered_train_set,a,b)"
   ]
  },
  {
   "cell_type": "code",
   "execution_count": 78,
   "metadata": {},
   "outputs": [],
   "source": [
    "result_filtered = test_rfc_xgbc(filtered_test_set,rfc_filtered , xgbc_filtered)"
   ]
  },
  {
   "cell_type": "code",
   "execution_count": 79,
   "metadata": {},
   "outputs": [
    {
     "data": {
      "text/html": [
       "<div>\n",
       "<style scoped>\n",
       "    .dataframe tbody tr th:only-of-type {\n",
       "        vertical-align: middle;\n",
       "    }\n",
       "\n",
       "    .dataframe tbody tr th {\n",
       "        vertical-align: top;\n",
       "    }\n",
       "\n",
       "    .dataframe thead th {\n",
       "        text-align: right;\n",
       "    }\n",
       "</style>\n",
       "<table border=\"1\" class=\"dataframe\">\n",
       "  <thead>\n",
       "    <tr style=\"text-align: right;\">\n",
       "      <th></th>\n",
       "      <th>F1 Score</th>\n",
       "      <th>Recall</th>\n",
       "    </tr>\n",
       "  </thead>\n",
       "  <tbody>\n",
       "    <tr>\n",
       "      <th>Random Forest</th>\n",
       "      <td>0.8817</td>\n",
       "      <td>0.8817</td>\n",
       "    </tr>\n",
       "    <tr>\n",
       "      <th>XGBoost</th>\n",
       "      <td>0.8833</td>\n",
       "      <td>0.8833</td>\n",
       "    </tr>\n",
       "  </tbody>\n",
       "</table>\n",
       "</div>"
      ],
      "text/plain": [
       "               F1 Score  Recall\n",
       "Random Forest    0.8817  0.8817\n",
       "XGBoost          0.8833  0.8833"
      ]
     },
     "execution_count": 79,
     "metadata": {},
     "output_type": "execute_result"
    }
   ],
   "source": [
    "result_filtered"
   ]
  },
  {
   "cell_type": "markdown",
   "metadata": {},
   "source": [
    "# 7) Conclusion"
   ]
  },
  {
   "cell_type": "markdown",
   "metadata": {},
   "source": [
    "**Random forest and XGboost give a highest accuracy compare to others mentioned in this notebook. Currently , Neural networks models give an accuracy up 97%. This number is actually undefeatable !**"
   ]
  }
 ],
 "metadata": {
  "kernelspec": {
   "display_name": "Python 3",
   "language": "python",
   "name": "python3"
  },
  "language_info": {
   "codemirror_mode": {
    "name": "ipython",
    "version": 3
   },
   "file_extension": ".py",
   "mimetype": "text/x-python",
   "name": "python",
   "nbconvert_exporter": "python",
   "pygments_lexer": "ipython3",
   "version": "3.7.5"
  }
 },
 "nbformat": 4,
 "nbformat_minor": 2
}
