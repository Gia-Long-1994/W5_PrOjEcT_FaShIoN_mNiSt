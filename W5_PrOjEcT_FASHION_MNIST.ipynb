{
 "cells": [
  {
   "cell_type": "markdown",
   "metadata": {},
   "source": [
    "# DISCOVER FASHION MNIST DATA SET BY APPYLING ENSEMBLE LEARNING AND PCA"
   ]
  },
  {
   "cell_type": "markdown",
   "metadata": {},
   "source": [
    "*We will handle the following sections :*\n",
    "- **0) Introduction**\n",
    "- **1) Reading train set**\n",
    "- **2) Visualize data :** *take a look how these images (before and after using PCA) look like*\n",
    "- **3) Prepare data** : *prepare by looking at correlations with label , or using PCA*\n",
    "- **4) Selecting top 2 model :** *we will walk through some popular classifiers and then some ensemble learning methods*\n",
    "- **5) Optimize model :** *try to fine tune above top 2*\n",
    "- **6) Deep into dimension reduction :** *we will investigate more how number of dimension affects F1_score and recall_score*\n",
    "- **7) Train on whole data set and making predictions :** *investigate on 3 kinds of data set*\n",
    "- **8) Conclusions**"
   ]
  },
  {
   "cell_type": "markdown",
   "metadata": {},
   "source": [
    "# 0) Introduction"
   ]
  },
  {
   "cell_type": "code",
   "execution_count": 5,
   "metadata": {},
   "outputs": [
    {
     "data": {
      "text/html": [
       "<div>\n",
       "<style scoped>\n",
       "    .dataframe tbody tr th:only-of-type {\n",
       "        vertical-align: middle;\n",
       "    }\n",
       "\n",
       "    .dataframe tbody tr th {\n",
       "        vertical-align: top;\n",
       "    }\n",
       "\n",
       "    .dataframe thead th {\n",
       "        text-align: right;\n",
       "    }\n",
       "</style>\n",
       "<table border=\"1\" class=\"dataframe\">\n",
       "  <thead>\n",
       "    <tr style=\"text-align: right;\">\n",
       "      <th></th>\n",
       "      <th>0</th>\n",
       "      <th>1</th>\n",
       "      <th>2</th>\n",
       "      <th>3</th>\n",
       "      <th>4</th>\n",
       "      <th>5</th>\n",
       "      <th>6</th>\n",
       "      <th>7</th>\n",
       "      <th>8</th>\n",
       "      <th>9</th>\n",
       "    </tr>\n",
       "  </thead>\n",
       "  <tbody>\n",
       "    <tr>\n",
       "      <th>label</th>\n",
       "      <td>0</td>\n",
       "      <td>1</td>\n",
       "      <td>2</td>\n",
       "      <td>3</td>\n",
       "      <td>4</td>\n",
       "      <td>5</td>\n",
       "      <td>6</td>\n",
       "      <td>7</td>\n",
       "      <td>8</td>\n",
       "      <td>9</td>\n",
       "    </tr>\n",
       "    <tr>\n",
       "      <th>categorie</th>\n",
       "      <td>T-shirt/Top</td>\n",
       "      <td>Trouser</td>\n",
       "      <td>Pullover</td>\n",
       "      <td>Dress</td>\n",
       "      <td>Coat</td>\n",
       "      <td>Sandal</td>\n",
       "      <td>Shirt</td>\n",
       "      <td>Sneaker</td>\n",
       "      <td>Bag</td>\n",
       "      <td>Ankel Boot</td>\n",
       "    </tr>\n",
       "  </tbody>\n",
       "</table>\n",
       "</div>"
      ],
      "text/plain": [
       "                     0        1         2      3     4       5      6  \\\n",
       "label                0        1         2      3     4       5      6   \n",
       "categorie  T-shirt/Top  Trouser  Pullover  Dress  Coat  Sandal  Shirt   \n",
       "\n",
       "                 7    8           9  \n",
       "label            7    8           9  \n",
       "categorie  Sneaker  Bag  Ankel Boot  "
      ]
     },
     "execution_count": 5,
     "metadata": {},
     "output_type": "execute_result"
    }
   ],
   "source": [
    "def create_categorie_data_frame() :\n",
    "    label_lyst = [i for i in range(10)]\n",
    "    categorie_lyst = ['T-shirt/Top','Trouser','Pullover','Dress','Coat','Sandal','Shirt','Sneaker','Bag','Ankel Boot']\n",
    "    label_frame = {'label':label_lyst,'categorie':categorie_lyst}\n",
    "    return pd.DataFrame(label_frame).T\n",
    "create_categorie_data_frame()"
   ]
  },
  {
   "cell_type": "markdown",
   "metadata": {},
   "source": [
    "# 1) Reading train set"
   ]
  },
  {
   "cell_type": "code",
   "execution_count": 2,
   "metadata": {},
   "outputs": [],
   "source": [
    "import pandas as pd\n",
    "import matplotlib.pyplot as plt\n",
    "import numpy as np\n",
    "import seaborn as sns"
   ]
  },
  {
   "cell_type": "code",
   "execution_count": 25,
   "metadata": {},
   "outputs": [],
   "source": [
    "train_set = pd.read_csv('fashion-mnist_train.csv')"
   ]
  },
  {
   "cell_type": "code",
   "execution_count": 4,
   "metadata": {},
   "outputs": [
    {
     "name": "stdout",
     "output_type": "stream",
     "text": [
      "<class 'pandas.core.frame.DataFrame'>\n",
      "RangeIndex: 60000 entries, 0 to 59999\n",
      "Columns: 785 entries, label to pixel784\n",
      "dtypes: int64(785)\n",
      "memory usage: 359.3 MB\n"
     ]
    }
   ],
   "source": [
    "train_set.info()"
   ]
  },
  {
   "cell_type": "markdown",
   "metadata": {},
   "source": [
    "*See. We have 60K data points , 784 features , 1 label column*"
   ]
  },
  {
   "cell_type": "code",
   "execution_count": 3,
   "metadata": {},
   "outputs": [
    {
     "data": {
      "text/plain": [
       "0"
      ]
     },
     "execution_count": 3,
     "metadata": {},
     "output_type": "execute_result"
    }
   ],
   "source": [
    "train_set.isnull().sum().sum()"
   ]
  },
  {
   "cell_type": "markdown",
   "metadata": {},
   "source": [
    "*No missing values at all*"
   ]
  },
  {
   "cell_type": "markdown",
   "metadata": {},
   "source": [
    "*For looking around several models to feel how it works, we just pick a 5000 - size sample*"
   ]
  },
  {
   "cell_type": "code",
   "execution_count": 5,
   "metadata": {},
   "outputs": [],
   "source": [
    "data = train_set.sample(5000)"
   ]
  },
  {
   "cell_type": "code",
   "execution_count": 6,
   "metadata": {
    "scrolled": true
   },
   "outputs": [
    {
     "name": "stdout",
     "output_type": "stream",
     "text": [
      "<class 'pandas.core.frame.DataFrame'>\n",
      "Int64Index: 5000 entries, 10478 to 35045\n",
      "Columns: 785 entries, label to pixel784\n",
      "dtypes: int64(785)\n",
      "memory usage: 30.0 MB\n"
     ]
    }
   ],
   "source": [
    "data.info()"
   ]
  },
  {
   "cell_type": "markdown",
   "metadata": {},
   "source": [
    "# 2) Visualize data"
   ]
  },
  {
   "cell_type": "markdown",
   "metadata": {},
   "source": [
    "*Now let's visualize 10 data points (called **example** below) to see how images look like. Our first goal is creating a data frame having 10 rows corresponding 10 categories. To make sure , let's check how it is for the very first label*"
   ]
  },
  {
   "cell_type": "code",
   "execution_count": 70,
   "metadata": {},
   "outputs": [],
   "source": [
    "example = data[data.iloc[:,0]==0].sample(1)"
   ]
  },
  {
   "cell_type": "code",
   "execution_count": 71,
   "metadata": {},
   "outputs": [
    {
     "data": {
      "text/plain": [
       "0"
      ]
     },
     "execution_count": 71,
     "metadata": {},
     "output_type": "execute_result"
    }
   ],
   "source": [
    "example.iloc[0,0]"
   ]
  },
  {
   "cell_type": "code",
   "execution_count": 86,
   "metadata": {},
   "outputs": [
    {
     "data": {
      "text/html": [
       "<div>\n",
       "<style scoped>\n",
       "    .dataframe tbody tr th:only-of-type {\n",
       "        vertical-align: middle;\n",
       "    }\n",
       "\n",
       "    .dataframe tbody tr th {\n",
       "        vertical-align: top;\n",
       "    }\n",
       "\n",
       "    .dataframe thead th {\n",
       "        text-align: right;\n",
       "    }\n",
       "</style>\n",
       "<table border=\"1\" class=\"dataframe\">\n",
       "  <thead>\n",
       "    <tr style=\"text-align: right;\">\n",
       "      <th></th>\n",
       "      <th>pixel1</th>\n",
       "      <th>pixel2</th>\n",
       "      <th>pixel3</th>\n",
       "      <th>pixel4</th>\n",
       "      <th>pixel5</th>\n",
       "      <th>pixel6</th>\n",
       "      <th>pixel7</th>\n",
       "      <th>pixel8</th>\n",
       "      <th>pixel9</th>\n",
       "      <th>pixel10</th>\n",
       "      <th>...</th>\n",
       "      <th>pixel775</th>\n",
       "      <th>pixel776</th>\n",
       "      <th>pixel777</th>\n",
       "      <th>pixel778</th>\n",
       "      <th>pixel779</th>\n",
       "      <th>pixel780</th>\n",
       "      <th>pixel781</th>\n",
       "      <th>pixel782</th>\n",
       "      <th>pixel783</th>\n",
       "      <th>pixel784</th>\n",
       "    </tr>\n",
       "  </thead>\n",
       "  <tbody>\n",
       "    <tr>\n",
       "      <th>29481</th>\n",
       "      <td>0</td>\n",
       "      <td>0</td>\n",
       "      <td>0</td>\n",
       "      <td>0</td>\n",
       "      <td>0</td>\n",
       "      <td>0</td>\n",
       "      <td>0</td>\n",
       "      <td>0</td>\n",
       "      <td>1</td>\n",
       "      <td>9</td>\n",
       "      <td>...</td>\n",
       "      <td>45</td>\n",
       "      <td>55</td>\n",
       "      <td>51</td>\n",
       "      <td>0</td>\n",
       "      <td>0</td>\n",
       "      <td>0</td>\n",
       "      <td>0</td>\n",
       "      <td>0</td>\n",
       "      <td>0</td>\n",
       "      <td>0</td>\n",
       "    </tr>\n",
       "  </tbody>\n",
       "</table>\n",
       "<p>1 rows × 784 columns</p>\n",
       "</div>"
      ],
      "text/plain": [
       "       pixel1  pixel2  pixel3  pixel4  pixel5  pixel6  pixel7  pixel8  pixel9  \\\n",
       "29481       0       0       0       0       0       0       0       0       1   \n",
       "\n",
       "       pixel10  ...  pixel775  pixel776  pixel777  pixel778  pixel779  \\\n",
       "29481        9  ...        45        55        51         0         0   \n",
       "\n",
       "       pixel780  pixel781  pixel782  pixel783  pixel784  \n",
       "29481         0         0         0         0         0  \n",
       "\n",
       "[1 rows x 784 columns]"
      ]
     },
     "execution_count": 86,
     "metadata": {},
     "output_type": "execute_result"
    }
   ],
   "source": [
    "example.drop(example.columns[0],axis=1)"
   ]
  },
  {
   "cell_type": "markdown",
   "metadata": {},
   "source": [
    "*Now we define a function to extend all 10 rows (contained in something called **example_X**). We pass in a set and desire to get a new data frame*"
   ]
  },
  {
   "cell_type": "code",
   "execution_count": 7,
   "metadata": {},
   "outputs": [],
   "source": [
    "def create_frame_to_visualize(set_) :\n",
    "    example = set_[set_.iloc[:,0]==0].sample(1)\n",
    "    example_label = example.iloc[0,0]\n",
    "    example_X = example.drop(example.columns[0],axis=1) # initialize with the very first categorie\n",
    "    for i in range(1,10) : # and then concatenate 9 others\n",
    "        example = set_[set_.iloc[:,0]==i].sample(1)\n",
    "        example_feature = example.drop(example.columns[0],axis=1)\n",
    "        example_X = pd.concat([example_X,example_feature])\n",
    "    return example_X"
   ]
  },
  {
   "cell_type": "markdown",
   "metadata": {},
   "source": [
    "*Next we define a function to plot. Our function passes in data , height and weight with the same default 28*"
   ]
  },
  {
   "cell_type": "code",
   "execution_count": 19,
   "metadata": {},
   "outputs": [],
   "source": [
    "def plot_images(data, height=28, width=28):\n",
    "    fig, axes = plt.subplots(2,5, figsize=(10, 4),subplot_kw=dict(xticks=[], yticks=[]))\n",
    "    for i, ax in enumerate(axes.flat):\n",
    "        ax.set_title(categorie_lyst[i],fontsize=20,c='r')\n",
    "        ax.imshow(data.iloc[i,:].values.reshape(height, width),cmap='gray')"
   ]
  },
  {
   "cell_type": "markdown",
   "metadata": {},
   "source": [
    "*Now look !*"
   ]
  },
  {
   "cell_type": "code",
   "execution_count": 20,
   "metadata": {
    "scrolled": true
   },
   "outputs": [
    {
     "data": {
      "image/png": "[encoded data removed]",
      "text/plain": [
       "<Figure size 720x288 with 10 Axes>"
      ]
     },
     "metadata": {},
     "output_type": "display_data"
    }
   ],
   "source": [
    "plot_images(create_frame_to_visualize(data))"
   ]
  },
  {
   "cell_type": "markdown",
   "metadata": {},
   "source": [
    "*Images look so blurry. This is because they just have 28 x 28 pixels*"
   ]
  },
  {
   "cell_type": "markdown",
   "metadata": {},
   "source": [
    "*In this notebook , we gonna try to do some features engineering like feature selection and using PCA. Now jump into PCA and play with it !*"
   ]
  },
  {
   "cell_type": "markdown",
   "metadata": {},
   "source": [
    "## PCA"
   ]
  },
  {
   "cell_type": "markdown",
   "metadata": {},
   "source": [
    "*To start working with PCA , we need to know how many components are suitable. We need to plot **cumulative explained variance***"
   ]
  },
  {
   "cell_type": "code",
   "execution_count": 21,
   "metadata": {},
   "outputs": [],
   "source": [
    "from sklearn.decomposition import PCA\n",
    "def cumulative_explained_variance_plot(data):\n",
    "    matrix_ = data.values\n",
    "    pca = PCA()\n",
    "    pca.fit(matrix_[:,1:])\n",
    "    \n",
    "    sns.set_style('whitegrid')\n",
    "\n",
    "    plt.figure(figsize=(12,7))\n",
    "    plt.plot(np.cumsum(pca.explained_variance_ratio_))\n",
    "    plt.title('Cumulative Explained Variance',fontsize=30)\n",
    "    plt.xlabel('number of components',fontsize = 20)\n",
    "    plt.ylabel('cumulative explained variance',fontsize=20)"
   ]
  },
  {
   "cell_type": "code",
   "execution_count": 22,
   "metadata": {},
   "outputs": [
    {
     "data": {
      "image/png": "[encoded data removed]",
      "text/plain": [
       "<Figure size 864x504 with 1 Axes>"
      ]
     },
     "metadata": {},
     "output_type": "display_data"
    }
   ],
   "source": [
    "cumulative_explained_variance_plot(train_set)"
   ]
  },
  {
   "cell_type": "markdown",
   "metadata": {},
   "source": [
    "*Look ! If we choose **n = 500** we still retain almost 100% origin data. Let's see how good result is in next section*"
   ]
  },
  {
   "cell_type": "markdown",
   "metadata": {},
   "source": [
    "*Now time to create new data by using PCA. Our function here passes in data , number of compenents. It returns new data frame possessing signicicantly reduced dimension. Chalenge here is we do transform all columns with exception label column*"
   ]
  },
  {
   "cell_type": "code",
   "execution_count": 23,
   "metadata": {},
   "outputs": [],
   "source": [
    "def create_new_data_by_pca(data,n) :\n",
    "    pca = PCA(n_components=n)\n",
    "    matrix_ = data.values # including label column\n",
    "    projected_matrix_ = pca.fit_transform(matrix_[:,1:]) # without label column\n",
    "    new_matrix = np.hstack((matrix_[:,0].reshape(data.shape[0],1),projected_matrix_))\n",
    "    lyst_col = [i for i in range(n+1)] # define column name\n",
    "    lyst_idx = [i for i in range(data.shape[0])] # define index\n",
    "    new_data = pd.DataFrame(data=new_matrix,index=lyst_idx,columns=lyst_col) # recreate data frame\n",
    "    new_data.rename({0:'label'},axis=1,inplace=True) # rename the first column into 'label'\n",
    "    return new_data"
   ]
  },
  {
   "cell_type": "markdown",
   "metadata": {},
   "source": [
    "*And now check a look how above images look like after reducing dimension to 484*"
   ]
  },
  {
   "cell_type": "code",
   "execution_count": 24,
   "metadata": {
    "scrolled": false
   },
   "outputs": [
    {
     "data": {
      "image/png": "[encoded data removed]",
      "text/plain": [
       "<Figure size 720x288 with 10 Axes>"
      ]
     },
     "metadata": {},
     "output_type": "display_data"
    }
   ],
   "source": [
    "plot_images(create_frame_to_visualize(create_new_data_by_pca(data,484)),22,22)"
   ]
  },
  {
   "cell_type": "markdown",
   "metadata": {},
   "source": [
    "*In this notebook we wanna handle with 3 pre-processing-data kind.*\n",
    "- **Origin data**\n",
    "- **Feature selection data** (called *data_fs* in the following)\n",
    "- **PCA - using data** (called *data_pca* below)"
   ]
  },
  {
   "cell_type": "markdown",
   "metadata": {},
   "source": [
    "*So now we fly to prepare data !*"
   ]
  },
  {
   "cell_type": "markdown",
   "metadata": {},
   "source": [
    "# 3) Prepare data"
   ]
  },
  {
   "cell_type": "code",
   "execution_count": 30,
   "metadata": {},
   "outputs": [
    {
     "data": {
      "text/plain": [
       "<matplotlib.axes._subplots.AxesSubplot at 0xb131f2b5c8>"
      ]
     },
     "execution_count": 30,
     "metadata": {},
     "output_type": "execute_result"
    },
    {
     "data": {
      "image/png": "[encoded data removed]",
      "text/plain": [
       "<Figure size 864x432 with 1 Axes>"
      ]
     },
     "metadata": {},
     "output_type": "display_data"
    }
   ],
   "source": [
    "plt.figure(figsize=(12,6))\n",
    "plt.title('Classes distribution of train set',fontsize = 30)\n",
    "plt.xlabel('Classes',fontsize=20)\n",
    "plt.ylabel('Number of data points')\n",
    "sns.countplot(x='label',data=train_set)"
   ]
  },
  {
   "cell_type": "markdown",
   "metadata": {},
   "source": [
    "*10 classes have the same number of data points.Let's say 6000. This means here is not imbalancing problem !*"
   ]
  },
  {
   "cell_type": "markdown",
   "metadata": {},
   "source": [
    "## 3a) Prepare data by using PCA"
   ]
  },
  {
   "cell_type": "code",
   "execution_count": 36,
   "metadata": {},
   "outputs": [],
   "source": [
    "data_pca = create_new_data_by_pca(data,484)"
   ]
  },
  {
   "cell_type": "markdown",
   "metadata": {},
   "source": [
    "## 3b) Prepare data by looking at correlation"
   ]
  },
  {
   "cell_type": "markdown",
   "metadata": {},
   "source": [
    "*Actually , when looking at above images , we can realise that large black spaces are available. That means there are quite many unimportant features. In other words, not so much columns are really correlated with label column. Let's see more*"
   ]
  },
  {
   "cell_type": "code",
   "execution_count": 26,
   "metadata": {},
   "outputs": [
    {
     "data": {
      "image/png": "[encoded data removed]",
      "text/plain": [
       "<Figure size 648x432 with 1 Axes>"
      ]
     },
     "metadata": {
      "needs_background": "light"
     },
     "output_type": "display_data"
    }
   ],
   "source": [
    "plt.figure(figsize=(9,6))\n",
    "\n",
    "correlations = train_set.corr()['label'].drop('label')\n",
    "correlations.sort_values().plot(kind='barh')\n",
    "\n",
    "plt.title('Correlations to Label',fontsize=30)\n",
    "\n",
    "plt.show()"
   ]
  },
  {
   "cell_type": "markdown",
   "metadata": {},
   "source": [
    "*We choose features have absolute correlation value greater than 0.2*"
   ]
  },
  {
   "cell_type": "code",
   "execution_count": 27,
   "metadata": {},
   "outputs": [],
   "source": [
    "threshold = 0.2\n",
    "\n",
    "features = list(correlations[(abs(correlations)>threshold)].index.values)\n",
    "features.append('label')\n",
    "\n",
    "# data_fs = data[features]"
   ]
  },
  {
   "cell_type": "markdown",
   "metadata": {},
   "source": [
    "*save **features** to reuse in next section*"
   ]
  },
  {
   "cell_type": "markdown",
   "metadata": {},
   "source": [
    "## 3c) Train test split"
   ]
  },
  {
   "cell_type": "markdown",
   "metadata": {},
   "source": [
    "*Because we handle with various data. It maybe so annoyed when train-test split implementation. Hence let's define a function to do that for us !*"
   ]
  },
  {
   "cell_type": "code",
   "execution_count": 33,
   "metadata": {},
   "outputs": [],
   "source": [
    "from sklearn.model_selection import train_test_split\n",
    "def split_data(data):\n",
    "    \n",
    "    X = data.drop('label',axis=1)\n",
    "    y = data['label']\n",
    "\n",
    "    X_train, X_test, y_train, y_test = train_test_split(X.values, y.values, test_size=0.2, stratify=y, random_state=102)\n",
    "\n",
    "    return (X_train, X_test, y_train, y_test)"
   ]
  },
  {
   "cell_type": "markdown",
   "metadata": {},
   "source": [
    "# 4)  Selecting model"
   ]
  },
  {
   "cell_type": "markdown",
   "metadata": {},
   "source": [
    "*As discussed above , we gonna walk through some ensemble leanring. But before that , try some popular classifiers !*"
   ]
  },
  {
   "cell_type": "markdown",
   "metadata": {},
   "source": [
    "*First of all , let's import all models we need*"
   ]
  },
  {
   "cell_type": "code",
   "execution_count": 34,
   "metadata": {},
   "outputs": [],
   "source": [
    "from sklearn.tree import DecisionTreeClassifier\n",
    "from sklearn.naive_bayes import GaussianNB\n",
    "from sklearn.linear_model import LogisticRegression\n",
    "from sklearn.svm import SVC\n",
    "from sklearn.neighbors import KNeighborsClassifier\n",
    "\n",
    "from sklearn.ensemble import VotingClassifier\n",
    "from sklearn.ensemble import BaggingClassifier\n",
    "from sklearn.ensemble import AdaBoostClassifier\n",
    "from sklearn.ensemble import RandomForestClassifier\n",
    "from xgboost import XGBClassifier"
   ]
  },
  {
   "cell_type": "markdown",
   "metadata": {},
   "source": [
    "## 4a) Very popular classifiers"
   ]
  },
  {
   "cell_type": "markdown",
   "metadata": {},
   "source": [
    "*For the very first , we build a set of popular classifiers*"
   ]
  },
  {
   "cell_type": "code",
   "execution_count": null,
   "metadata": {},
   "outputs": [],
   "source": [
    "base_classifiers = [('Decision Tree', DecisionTreeClassifier()),\n",
    "                    ('Naive Bayes', GaussianNB()),\n",
    "                    ('Support Vector Machine', SVC()),\n",
    "                    ('K-Nearest Neighbors', KNeighborsClassifier()),\n",
    "                    ('Logistic Regression', LogisticRegression())]"
   ]
  },
  {
   "cell_type": "markdown",
   "metadata": {},
   "source": [
    "*And now define a function to evaluate them. Remember that we are considering on sample size 5000*"
   ]
  },
  {
   "cell_type": "code",
   "execution_count": 33,
   "metadata": {},
   "outputs": [],
   "source": [
    "from sklearn import metrics\n",
    "from sklearn.metrics import accuracy_score, confusion_matrix , classification_report\n",
    "def base_learners_evaluations(data):\n",
    "    X_train, X_test, y_train, y_test = split_data(data)\n",
    "    \n",
    "    idx = []\n",
    "    scores = {'F1 score': [], 'Recall':[]}\n",
    "    for bc in base_classifiers:\n",
    "        lr = bc[1]\n",
    "        lr.fit(X_train, y_train)\n",
    "\n",
    "        predictions = lr.predict(X_test)\n",
    "\n",
    "        idx.append(bc[0])\n",
    "        scores['F1 score'].append(metrics.f1_score(y_test, predictions,average='micro'))\n",
    "        scores['Recall'].append(metrics.recall_score(y_test, predictions,average='micro'))\n",
    "        frame_ = pd.DataFrame(data=scores, index=idx)\n",
    "    return frame_.values"
   ]
  },
  {
   "cell_type": "markdown",
   "metadata": {},
   "source": [
    "*To be easy to read results of models , let's define a visualise function*"
   ]
  },
  {
   "cell_type": "code",
   "execution_count": 74,
   "metadata": {},
   "outputs": [],
   "source": [
    "def visualize_result_model(lyst_1,lyst_2,lyst_3,model_tuple=None,title='F1 Score') :\n",
    "    fig, ax = plt.subplots(figsize=(15,7))\n",
    "    x = np.arange(len(model_tuple))\n",
    "    width = 0.25         # the width of the bars\n",
    "    p1 = ax.bar(x - width, lyst_1 , width)\n",
    "    p2 = ax.bar(x , lyst_2 , width)\n",
    "    p3 = ax.bar(x + width , lyst_3 , width)\n",
    "\n",
    "    ax.set_title(title,fontsize=25)\n",
    "    ax.set_xlabel('Models',fontsize=20)\n",
    "    ax.set_ylabel('score',fontsize=20)\n",
    "    ax.set_xticks(x + width / 2)\n",
    "    ax.set_xticklabels(model_tuple)\n",
    "\n",
    "    ax.legend((p1[0], p2[0], p3[0]), ('Origin Data', 'Filtered Data 437','PCA Data 484'))\n",
    "    # ax.yaxis.set_units(inch)\n",
    "    ax.autoscale_view()\n",
    "\n",
    "    plt.show()"
   ]
  },
  {
   "cell_type": "markdown",
   "metadata": {},
   "source": [
    "*Here below our very first learning !*"
   ]
  },
  {
   "cell_type": "code",
   "execution_count": 52,
   "metadata": {},
   "outputs": [],
   "source": [
    "def the_very_first_learning(data,data_fs=data_fs,data_pca=data_pca) :\n",
    "    f1_lyst_1 , f1_lyst_2 , f1_lyst_3 = [] , [] , []\n",
    "    recall_lyst_1 , recall_lyst_2 , recall_lyst_3 = [] , [] , []\n",
    "    \n",
    "    data_frame_value_ = base_learners_evaluations(data)\n",
    "    data_fs_frame_value_ = base_learners_evaluations(data_fs)\n",
    "    data_pca_frame_value_ = base_learners_evaluations(data_pca)\n",
    "\n",
    "    for i in range(5) :\n",
    "        f1_lyst_1.append(data_frame_value_[i,0])\n",
    "        f1_lyst_2.append(data_fs_frame_value_[i,0])\n",
    "        f1_lyst_3.append(data_pca_frame_value_[i,0])\n",
    "    \n",
    "    for i in range(5) :\n",
    "        recall_lyst_1.append(data_frame_value_[i,1])\n",
    "        recall_lyst_2.append(data_fs_frame_value_[i,1])\n",
    "        recall_lyst_3.append(data_pca_frame_value_[i,1])\n",
    "    return f1_lyst_1 , f1_lyst_2 , f1_lyst_3 , recall_lyst_1 , recall_lyst_2 , recall_lyst_3"
   ]
  },
  {
   "cell_type": "code",
   "execution_count": 61,
   "metadata": {},
   "outputs": [],
   "source": [
    "# frame_values = base_learners_evaluations(data)"
   ]
  },
  {
   "cell_type": "code",
   "execution_count": 53,
   "metadata": {},
   "outputs": [],
   "source": [
    "# frame_values"
   ]
  },
  {
   "cell_type": "code",
   "execution_count": 64,
   "metadata": {},
   "outputs": [],
   "source": [
    "# a , b , c , d , e , f = the_very_first_learning(data)"
   ]
  },
  {
   "cell_type": "code",
   "execution_count": 76,
   "metadata": {},
   "outputs": [
    {
     "data": {
      "image/png": "[encoded data removed]",
      "text/plain": [
       "<Figure size 1080x504 with 1 Axes>"
      ]
     },
     "metadata": {},
     "output_type": "display_data"
    }
   ],
   "source": [
    "visualize_result_model(a,b,c,('Decision Tree','Naive Bayes','Support Vector Machine','K-Nearest Neighbors','Logistic Regression'))"
   ]
  },
  {
   "cell_type": "code",
   "execution_count": 77,
   "metadata": {},
   "outputs": [
    {
     "data": {
      "image/png": "[encoded data removed]",
      "text/plain": [
       "<Figure size 1080x504 with 1 Axes>"
      ]
     },
     "metadata": {},
     "output_type": "display_data"
    }
   ],
   "source": [
    "visualize_result_model(d,e,f,('Decision Tree','Naive Bayes','Support Vector Machine','K-Nearest Neighbors','Logistic Regression'),title='Recall')"
   ]
  },
  {
   "cell_type": "markdown",
   "metadata": {},
   "source": [
    "*Now move on to some ensemble learnings !*"
   ]
  },
  {
   "cell_type": "markdown",
   "metadata": {},
   "source": [
    "## 4b) Ensemble learning"
   ]
  },
  {
   "cell_type": "code",
   "execution_count": 78,
   "metadata": {},
   "outputs": [],
   "source": [
    "models_comparison = {}"
   ]
  },
  {
   "cell_type": "code",
   "execution_count": 79,
   "metadata": {},
   "outputs": [],
   "source": [
    "def ensemble_evaluation(data, model, label='Original'):\n",
    "    X_train, X_test, y_train, y_test = split_data(data)\n",
    "    model.fit(X_train, y_train)\n",
    "    predictions = model.predict(X_test)       \n",
    "    return pd.DataFrame({'F1 Score': [metrics.f1_score(y_test, predictions,average='micro')],\n",
    "                         'Recall': [metrics.recall_score(y_test, predictions,average='micro')]}, index=[label]) "
   ]
  },
  {
   "cell_type": "markdown",
   "metadata": {},
   "source": [
    "### 4b.1) Voting"
   ]
  },
  {
   "cell_type": "code",
   "execution_count": 80,
   "metadata": {},
   "outputs": [],
   "source": [
    "base_classifiers_1 = [('Decision Tree', DecisionTreeClassifier()),\n",
    "                    ('Naive Bayes', GaussianNB()),\n",
    "                    ('Support Vector Machine', SVC()),\n",
    "                    ('K-Nearest Neighbors', KNeighborsClassifier()),\n",
    "                    ('Logistic Regression', LogisticRegression())]\n",
    "\n",
    "ensemble_1 = VotingClassifier(base_classifiers_1)    "
   ]
  },
  {
   "cell_type": "code",
   "execution_count": 88,
   "metadata": {},
   "outputs": [],
   "source": [
    "def second_learning_by_voting(data,data_fs=data_fs,data_pca=data_pca) :\n",
    "    ensemble_data_origin = ensemble_evaluation(data, ensemble_1, label='Original 784')\n",
    "    ensemble_data_filtered = ensemble_evaluation(data_fs, ensemble_1, label='Filtered 437')\n",
    "    ensemble_data_pca = ensemble_evaluation(data_pca, ensemble_1, label='PCA 484')\n",
    "    models_comparison['Voting_1'] = pd.concat([ensemble_data_origin, ensemble_data_filtered,ensemble_data_pca], axis=0)\n",
    "    return models_comparison['Voting_1']"
   ]
  },
  {
   "cell_type": "code",
   "execution_count": 91,
   "metadata": {},
   "outputs": [],
   "source": [
    "# second_result = second_learning_by_voting(data)"
   ]
  },
  {
   "cell_type": "code",
   "execution_count": 90,
   "metadata": {},
   "outputs": [
    {
     "name": "stdout",
     "output_type": "stream",
     "text": [
      "Voting evaluation\n"
     ]
    },
    {
     "data": {
      "text/html": [
       "<div>\n",
       "<style scoped>\n",
       "    .dataframe tbody tr th:only-of-type {\n",
       "        vertical-align: middle;\n",
       "    }\n",
       "\n",
       "    .dataframe tbody tr th {\n",
       "        vertical-align: top;\n",
       "    }\n",
       "\n",
       "    .dataframe thead th {\n",
       "        text-align: right;\n",
       "    }\n",
       "</style>\n",
       "<table border=\"1\" class=\"dataframe\">\n",
       "  <thead>\n",
       "    <tr style=\"text-align: right;\">\n",
       "      <th></th>\n",
       "      <th>F1 Score</th>\n",
       "      <th>Recall</th>\n",
       "    </tr>\n",
       "  </thead>\n",
       "  <tbody>\n",
       "    <tr>\n",
       "      <th>Original 784</th>\n",
       "      <td>0.843</td>\n",
       "      <td>0.843</td>\n",
       "    </tr>\n",
       "    <tr>\n",
       "      <th>Filtered 437</th>\n",
       "      <td>0.828</td>\n",
       "      <td>0.828</td>\n",
       "    </tr>\n",
       "    <tr>\n",
       "      <th>PCA 484</th>\n",
       "      <td>0.832</td>\n",
       "      <td>0.832</td>\n",
       "    </tr>\n",
       "  </tbody>\n",
       "</table>\n",
       "</div>"
      ],
      "text/plain": [
       "              F1 Score  Recall\n",
       "Original 784     0.843   0.843\n",
       "Filtered 437     0.828   0.828\n",
       "PCA 484          0.832   0.832"
      ]
     },
     "execution_count": 90,
     "metadata": {},
     "output_type": "execute_result"
    }
   ],
   "source": [
    "print('Voting evaluation')\n",
    "second_result"
   ]
  },
  {
   "cell_type": "markdown",
   "metadata": {},
   "source": [
    "### 4b.2) Adding more decision trees"
   ]
  },
  {
   "cell_type": "code",
   "execution_count": 92,
   "metadata": {},
   "outputs": [],
   "source": [
    "base_classifiers_2 = [('Decision Tree 3', DecisionTreeClassifier(max_depth=3)),\n",
    "                    ('Decision Tree 5', DecisionTreeClassifier(max_depth=5)),\n",
    "                    ('Decision Tree 8', DecisionTreeClassifier(max_depth=8)),\n",
    "                    ('Naive Bayes', GaussianNB()),\n",
    "                    ('Support Vector Machine', SVC()),\n",
    "                    ('K-Nearest Neighbors', KNeighborsClassifier()),\n",
    "                    ('Logistic Regression', LogisticRegression())]\n",
    "\n",
    "ensemble_2 = VotingClassifier(base_classifiers_2)"
   ]
  },
  {
   "cell_type": "code",
   "execution_count": 93,
   "metadata": {},
   "outputs": [],
   "source": [
    "def third_learning_by_voting_and_adding_more_decision_tree(data,data_fs=data_fs,data_pca=data_pca) :\n",
    "    ensemble_data_origin = ensemble_evaluation(data, ensemble_2, label='Original 784')\n",
    "    ensemble_data_filtered = ensemble_evaluation(data_fs, ensemble_2, label='Filtered 437')\n",
    "    ensemble_data_pca = ensemble_evaluation(data_pca, ensemble_2, label='PCA 484')\n",
    "    models_comparison['Voting_2'] = pd.concat([ensemble_data_origin, ensemble_data_filtered,ensemble_data_pca], axis=0)\n",
    "    return models_comparison['Voting_2']"
   ]
  },
  {
   "cell_type": "code",
   "execution_count": 96,
   "metadata": {},
   "outputs": [],
   "source": [
    "# third_result = third_learning_by_voting_and_adding_more_decision_tree(data)"
   ]
  },
  {
   "cell_type": "code",
   "execution_count": 95,
   "metadata": {},
   "outputs": [
    {
     "name": "stdout",
     "output_type": "stream",
     "text": [
      "Adding more decision trees\n"
     ]
    },
    {
     "data": {
      "text/html": [
       "<div>\n",
       "<style scoped>\n",
       "    .dataframe tbody tr th:only-of-type {\n",
       "        vertical-align: middle;\n",
       "    }\n",
       "\n",
       "    .dataframe tbody tr th {\n",
       "        vertical-align: top;\n",
       "    }\n",
       "\n",
       "    .dataframe thead th {\n",
       "        text-align: right;\n",
       "    }\n",
       "</style>\n",
       "<table border=\"1\" class=\"dataframe\">\n",
       "  <thead>\n",
       "    <tr style=\"text-align: right;\">\n",
       "      <th></th>\n",
       "      <th>F1 Score</th>\n",
       "      <th>Recall</th>\n",
       "    </tr>\n",
       "  </thead>\n",
       "  <tbody>\n",
       "    <tr>\n",
       "      <th>Original 784</th>\n",
       "      <td>0.809</td>\n",
       "      <td>0.809</td>\n",
       "    </tr>\n",
       "    <tr>\n",
       "      <th>Filtered 437</th>\n",
       "      <td>0.804</td>\n",
       "      <td>0.804</td>\n",
       "    </tr>\n",
       "    <tr>\n",
       "      <th>PCA 484</th>\n",
       "      <td>0.813</td>\n",
       "      <td>0.813</td>\n",
       "    </tr>\n",
       "  </tbody>\n",
       "</table>\n",
       "</div>"
      ],
      "text/plain": [
       "              F1 Score  Recall\n",
       "Original 784     0.809   0.809\n",
       "Filtered 437     0.804   0.804\n",
       "PCA 484          0.813   0.813"
      ]
     },
     "execution_count": 95,
     "metadata": {},
     "output_type": "execute_result"
    }
   ],
   "source": [
    "print('Adding more decision trees')\n",
    "third_result"
   ]
  },
  {
   "cell_type": "markdown",
   "metadata": {},
   "source": [
    "### 4b.3) Bagging"
   ]
  },
  {
   "cell_type": "code",
   "execution_count": 97,
   "metadata": {},
   "outputs": [],
   "source": [
    "ensemble_3 = BaggingClassifier(n_estimators=10,\n",
    "                             base_estimator=DecisionTreeClassifier(max_depth=5))"
   ]
  },
  {
   "cell_type": "code",
   "execution_count": 98,
   "metadata": {},
   "outputs": [],
   "source": [
    "def fourth_learning_by_bagging(data,data_fs=data_fs,data_pca=data_pca) :\n",
    "    ensemble_data_origin = ensemble_evaluation(data, ensemble_3, label='Original 784')\n",
    "    ensemble_data_filtered = ensemble_evaluation(data_fs, ensemble_3, label='Filtered 437')\n",
    "    ensemble_data_pca = ensemble_evaluation(data_pca, ensemble_3, label='PCA 484')\n",
    "    models_comparison['Bagging'] = pd.concat([ensemble_data_origin, ensemble_data_filtered,ensemble_data_pca], axis=0)\n",
    "    return models_comparison['Bagging']"
   ]
  },
  {
   "cell_type": "code",
   "execution_count": 99,
   "metadata": {
    "scrolled": true
   },
   "outputs": [],
   "source": [
    "fourth_result = fourth_learning_by_bagging(data)"
   ]
  },
  {
   "cell_type": "code",
   "execution_count": 100,
   "metadata": {},
   "outputs": [
    {
     "name": "stdout",
     "output_type": "stream",
     "text": [
      "Bagging evaluation\n"
     ]
    },
    {
     "data": {
      "text/html": [
       "<div>\n",
       "<style scoped>\n",
       "    .dataframe tbody tr th:only-of-type {\n",
       "        vertical-align: middle;\n",
       "    }\n",
       "\n",
       "    .dataframe tbody tr th {\n",
       "        vertical-align: top;\n",
       "    }\n",
       "\n",
       "    .dataframe thead th {\n",
       "        text-align: right;\n",
       "    }\n",
       "</style>\n",
       "<table border=\"1\" class=\"dataframe\">\n",
       "  <thead>\n",
       "    <tr style=\"text-align: right;\">\n",
       "      <th></th>\n",
       "      <th>F1 Score</th>\n",
       "      <th>Recall</th>\n",
       "    </tr>\n",
       "  </thead>\n",
       "  <tbody>\n",
       "    <tr>\n",
       "      <th>Original 784</th>\n",
       "      <td>0.741</td>\n",
       "      <td>0.741</td>\n",
       "    </tr>\n",
       "    <tr>\n",
       "      <th>Filtered 437</th>\n",
       "      <td>0.734</td>\n",
       "      <td>0.734</td>\n",
       "    </tr>\n",
       "    <tr>\n",
       "      <th>PCA 484</th>\n",
       "      <td>0.625</td>\n",
       "      <td>0.625</td>\n",
       "    </tr>\n",
       "  </tbody>\n",
       "</table>\n",
       "</div>"
      ],
      "text/plain": [
       "              F1 Score  Recall\n",
       "Original 784     0.741   0.741\n",
       "Filtered 437     0.734   0.734\n",
       "PCA 484          0.625   0.625"
      ]
     },
     "execution_count": 100,
     "metadata": {},
     "output_type": "execute_result"
    }
   ],
   "source": [
    "print('Bagging evaluation')\n",
    "fourth_result"
   ]
  },
  {
   "cell_type": "markdown",
   "metadata": {},
   "source": [
    "*Let's try to increase max_depth*"
   ]
  },
  {
   "cell_type": "markdown",
   "metadata": {},
   "source": [
    "### 4b.4) Adaboost"
   ]
  },
  {
   "cell_type": "code",
   "execution_count": 101,
   "metadata": {},
   "outputs": [],
   "source": [
    "ensemble_4 = AdaBoostClassifier(n_estimators=80, learning_rate=0.01)"
   ]
  },
  {
   "cell_type": "code",
   "execution_count": 102,
   "metadata": {},
   "outputs": [],
   "source": [
    "def fifth_learning_by_Adaboost(data,data_fs=data_fs,data_pca=data_pca) :\n",
    "    ensemble_data_origin = ensemble_evaluation(data, ensemble_4 , label='Original 784')\n",
    "    ensemble_data_filtered = ensemble_evaluation(data_fs, ensemble_4 , label='Filtered 437')\n",
    "    ensemble_data_pca = ensemble_evaluation(data_pca, ensemble_4 , label='PCA 484')\n",
    "    models_comparison['Adaboost'] = pd.concat([ensemble_data_origin, ensemble_data_filtered,ensemble_data_pca], axis=0)\n",
    "    return models_comparison['Adaboost']"
   ]
  },
  {
   "cell_type": "code",
   "execution_count": 103,
   "metadata": {},
   "outputs": [],
   "source": [
    "fifth_result = fifth_learning_by_Adaboost(data)"
   ]
  },
  {
   "cell_type": "code",
   "execution_count": 104,
   "metadata": {},
   "outputs": [
    {
     "name": "stdout",
     "output_type": "stream",
     "text": [
      "AdaBoost evaluation\n"
     ]
    },
    {
     "data": {
      "text/html": [
       "<div>\n",
       "<style scoped>\n",
       "    .dataframe tbody tr th:only-of-type {\n",
       "        vertical-align: middle;\n",
       "    }\n",
       "\n",
       "    .dataframe tbody tr th {\n",
       "        vertical-align: top;\n",
       "    }\n",
       "\n",
       "    .dataframe thead th {\n",
       "        text-align: right;\n",
       "    }\n",
       "</style>\n",
       "<table border=\"1\" class=\"dataframe\">\n",
       "  <thead>\n",
       "    <tr style=\"text-align: right;\">\n",
       "      <th></th>\n",
       "      <th>F1 Score</th>\n",
       "      <th>Recall</th>\n",
       "    </tr>\n",
       "  </thead>\n",
       "  <tbody>\n",
       "    <tr>\n",
       "      <th>Original 784</th>\n",
       "      <td>0.398</td>\n",
       "      <td>0.398</td>\n",
       "    </tr>\n",
       "    <tr>\n",
       "      <th>Filtered 437</th>\n",
       "      <td>0.398</td>\n",
       "      <td>0.398</td>\n",
       "    </tr>\n",
       "    <tr>\n",
       "      <th>PCA 484</th>\n",
       "      <td>0.434</td>\n",
       "      <td>0.434</td>\n",
       "    </tr>\n",
       "  </tbody>\n",
       "</table>\n",
       "</div>"
      ],
      "text/plain": [
       "              F1 Score  Recall\n",
       "Original 784     0.398   0.398\n",
       "Filtered 437     0.398   0.398\n",
       "PCA 484          0.434   0.434"
      ]
     },
     "execution_count": 104,
     "metadata": {},
     "output_type": "execute_result"
    }
   ],
   "source": [
    "print('AdaBoost evaluation')\n",
    "fifth_result"
   ]
  },
  {
   "cell_type": "markdown",
   "metadata": {},
   "source": [
    "### 4b.5) Random Forest"
   ]
  },
  {
   "cell_type": "code",
   "execution_count": 105,
   "metadata": {},
   "outputs": [],
   "source": [
    "ensemble_5 = RandomForestClassifier(n_estimators=50, criterion=\"entropy\", n_jobs=4)"
   ]
  },
  {
   "cell_type": "code",
   "execution_count": 106,
   "metadata": {},
   "outputs": [],
   "source": [
    "def sixth_learning_by_Random_Forest(data,data_fs=data_fs,data_pca=data_pca) :\n",
    "    ensemble_data_origin = ensemble_evaluation(data, ensemble_5 , label='Original 784')\n",
    "    ensemble_data_filtered = ensemble_evaluation(data_fs, ensemble_5 , label='Filtered 437')\n",
    "    ensemble_data_pca = ensemble_evaluation(data_pca, ensemble_5 , label='PCA 484')\n",
    "    models_comparison['Random Forest'] = pd.concat([ensemble_data_origin, ensemble_data_filtered,ensemble_data_pca], axis=0)\n",
    "    return models_comparison['Random Forest']"
   ]
  },
  {
   "cell_type": "code",
   "execution_count": 107,
   "metadata": {},
   "outputs": [],
   "source": [
    "sixth_result = sixth_learning_by_Random_Forest(data)"
   ]
  },
  {
   "cell_type": "code",
   "execution_count": 108,
   "metadata": {},
   "outputs": [
    {
     "name": "stdout",
     "output_type": "stream",
     "text": [
      "Random forest evaluation\n"
     ]
    },
    {
     "data": {
      "text/html": [
       "<div>\n",
       "<style scoped>\n",
       "    .dataframe tbody tr th:only-of-type {\n",
       "        vertical-align: middle;\n",
       "    }\n",
       "\n",
       "    .dataframe tbody tr th {\n",
       "        vertical-align: top;\n",
       "    }\n",
       "\n",
       "    .dataframe thead th {\n",
       "        text-align: right;\n",
       "    }\n",
       "</style>\n",
       "<table border=\"1\" class=\"dataframe\">\n",
       "  <thead>\n",
       "    <tr style=\"text-align: right;\">\n",
       "      <th></th>\n",
       "      <th>F1 Score</th>\n",
       "      <th>Recall</th>\n",
       "    </tr>\n",
       "  </thead>\n",
       "  <tbody>\n",
       "    <tr>\n",
       "      <th>Original 784</th>\n",
       "      <td>0.826</td>\n",
       "      <td>0.826</td>\n",
       "    </tr>\n",
       "    <tr>\n",
       "      <th>Filtered 437</th>\n",
       "      <td>0.828</td>\n",
       "      <td>0.828</td>\n",
       "    </tr>\n",
       "    <tr>\n",
       "      <th>PCA 484</th>\n",
       "      <td>0.796</td>\n",
       "      <td>0.796</td>\n",
       "    </tr>\n",
       "  </tbody>\n",
       "</table>\n",
       "</div>"
      ],
      "text/plain": [
       "              F1 Score  Recall\n",
       "Original 784     0.826   0.826\n",
       "Filtered 437     0.828   0.828\n",
       "PCA 484          0.796   0.796"
      ]
     },
     "execution_count": 108,
     "metadata": {},
     "output_type": "execute_result"
    }
   ],
   "source": [
    "print('Random forest evaluation')\n",
    "sixth_result"
   ]
  },
  {
   "cell_type": "markdown",
   "metadata": {},
   "source": [
    "### 4b.6) XGBoost"
   ]
  },
  {
   "cell_type": "code",
   "execution_count": 236,
   "metadata": {},
   "outputs": [],
   "source": [
    "# !pip install xgboost"
   ]
  },
  {
   "cell_type": "code",
   "execution_count": 109,
   "metadata": {},
   "outputs": [],
   "source": [
    "ensemble_6 = XGBClassifier(max_depth=5, n_jobs=4)"
   ]
  },
  {
   "cell_type": "code",
   "execution_count": 110,
   "metadata": {},
   "outputs": [],
   "source": [
    "def seventh_learning_by_XGBoost(data,data_fs=data_fs,data_pca=data_pca) :\n",
    "    ensemble_data_origin = ensemble_evaluation(data, ensemble_6 , label='Original 784')\n",
    "    ensemble_data_filtered = ensemble_evaluation(data_fs, ensemble_6 , label='Filtered 437')\n",
    "    ensemble_data_pca = ensemble_evaluation(data_pca, ensemble_6 , label='PCA 484')\n",
    "    models_comparison['XGBoost'] = pd.concat([ensemble_data_origin, ensemble_data_filtered,ensemble_data_pca], axis=0)\n",
    "    return models_comparison['XGBoost']"
   ]
  },
  {
   "cell_type": "code",
   "execution_count": 111,
   "metadata": {},
   "outputs": [],
   "source": [
    "seventh_result = seventh_learning_by_XGBoost(data)"
   ]
  },
  {
   "cell_type": "code",
   "execution_count": 112,
   "metadata": {},
   "outputs": [
    {
     "name": "stdout",
     "output_type": "stream",
     "text": [
      "XGBoost evaluation\n"
     ]
    },
    {
     "data": {
      "text/html": [
       "<div>\n",
       "<style scoped>\n",
       "    .dataframe tbody tr th:only-of-type {\n",
       "        vertical-align: middle;\n",
       "    }\n",
       "\n",
       "    .dataframe tbody tr th {\n",
       "        vertical-align: top;\n",
       "    }\n",
       "\n",
       "    .dataframe thead th {\n",
       "        text-align: right;\n",
       "    }\n",
       "</style>\n",
       "<table border=\"1\" class=\"dataframe\">\n",
       "  <thead>\n",
       "    <tr style=\"text-align: right;\">\n",
       "      <th></th>\n",
       "      <th>F1 Score</th>\n",
       "      <th>Recall</th>\n",
       "    </tr>\n",
       "  </thead>\n",
       "  <tbody>\n",
       "    <tr>\n",
       "      <th>Original 784</th>\n",
       "      <td>0.853</td>\n",
       "      <td>0.853</td>\n",
       "    </tr>\n",
       "    <tr>\n",
       "      <th>Filtered 437</th>\n",
       "      <td>0.847</td>\n",
       "      <td>0.847</td>\n",
       "    </tr>\n",
       "    <tr>\n",
       "      <th>PCA 484</th>\n",
       "      <td>0.836</td>\n",
       "      <td>0.836</td>\n",
       "    </tr>\n",
       "  </tbody>\n",
       "</table>\n",
       "</div>"
      ],
      "text/plain": [
       "              F1 Score  Recall\n",
       "Original 784     0.853   0.853\n",
       "Filtered 437     0.847   0.847\n",
       "PCA 484          0.836   0.836"
      ]
     },
     "execution_count": 112,
     "metadata": {},
     "output_type": "execute_result"
    }
   ],
   "source": [
    "print('XGBoost evaluation')\n",
    "seventh_result"
   ]
  },
  {
   "cell_type": "markdown",
   "metadata": {},
   "source": [
    "*All evaluations are stored in models_comparison dictionary. We can access to get score of desired data of desired model.Below is an example*"
   ]
  },
  {
   "cell_type": "code",
   "execution_count": 116,
   "metadata": {},
   "outputs": [
    {
     "data": {
      "text/plain": [
       "0.853"
      ]
     },
     "execution_count": 116,
     "metadata": {},
     "output_type": "execute_result"
    }
   ],
   "source": [
    "models_comparison['XGBoost']['F1 Score']['Original 784']"
   ]
  },
  {
   "cell_type": "markdown",
   "metadata": {},
   "source": [
    "### 4b.7) Visualize to compare models"
   ]
  },
  {
   "cell_type": "markdown",
   "metadata": {},
   "source": [
    "*Nice ! Now let's visualize them to select top 2 !*"
   ]
  },
  {
   "cell_type": "code",
   "execution_count": 123,
   "metadata": {},
   "outputs": [],
   "source": [
    "def plot_models_comparison(title='F1 Score'):\n",
    "    labels = models_comparison.keys()\n",
    "    original_data = [models_comparison[model][title]['Original 784'] for model in labels]\n",
    "    filtered_data = [models_comparison[model][title]['Filtered 437'] for model in labels]\n",
    "    pca_data = [models_comparison[model][title]['PCA 484'] for model in labels]\n",
    "\n",
    "    best_score_each_model = [max(original_data[i], filtered_data[i]) for i in range(len(original_data))]\n",
    "    labels = [x for _, x in sorted(zip(best_score_each_model, labels), key=lambda pair: pair[0])]\n",
    "    original_data = [x for _, x in sorted(zip(best_score_each_model, original_data), key=lambda pair: pair[0])]\n",
    "    filtered_data = [x for _, x in sorted(zip(best_score_each_model, filtered_data), key=lambda pair: pair[0])]\n",
    "    pca_data = [x for _, x in sorted(zip(best_score_each_model, filtered_data), key=lambda pair: pair[0])]\n",
    "\n",
    "    x = np.arange(len(labels))  # the label locations\n",
    "    width = 0.2  # the width of the bars\n",
    "\n",
    "    fig, ax = plt.subplots(figsize=(15,7))\n",
    "    rects1 = ax.bar(x - width, original_data, width, label='Original Data')\n",
    "    rects2 = ax.bar(x , filtered_data, width, label='Filtered Data')\n",
    "    rects3 = ax.bar(x + width, pca_data, width, label='PCA Data')\n",
    "\n",
    "    # Add some text for labels, title and custom x-axis tick labels, etc.\n",
    "    ax.set_ylabel('Scores',fontsize=30)\n",
    "    ax.set_xlabel('Models',fontsize=30)\n",
    "    ax.set_title(title+\" over sample size 5000\",fontsize=35)\n",
    "    ax.set_xticks(x)\n",
    "    ax.set_xticklabels(labels,fontsize=20)\n",
    "    ax.legend()\n",
    "\n",
    "    def autolabel(rects):\n",
    "        \"\"\"Attach a text label above each bar in *rects*, displaying its height.\"\"\"\n",
    "        for rect in rects:\n",
    "            height = rect.get_height()\n",
    "            ax.annotate('{0:.2f}'.format(height),\n",
    "                        xy=(rect.get_x() + rect.get_width() / 2, height),\n",
    "                        xytext=(0, 3),  # 3 points vertical offset\n",
    "                        textcoords=\"offset points\",\n",
    "                        ha='center', va='bottom')\n",
    "\n",
    "    autolabel(rects1)\n",
    "    autolabel(rects2)\n",
    "    autolabel(rects3)\n",
    "\n",
    "    fig.tight_layout()\n",
    "    \n",
    "    plt.show()"
   ]
  },
  {
   "cell_type": "code",
   "execution_count": 124,
   "metadata": {},
   "outputs": [
    {
     "data": {
      "image/png": "[encoded data removed]",
      "text/plain": [
       "<Figure size 1080x504 with 1 Axes>"
      ]
     },
     "metadata": {},
     "output_type": "display_data"
    }
   ],
   "source": [
    "plot_models_comparison('Recall')"
   ]
  },
  {
   "cell_type": "code",
   "execution_count": 125,
   "metadata": {},
   "outputs": [
    {
     "data": {
      "image/png": "[encoded data removed]",
      "text/plain": [
       "<Figure size 1080x504 with 1 Axes>"
      ]
     },
     "metadata": {},
     "output_type": "display_data"
    }
   ],
   "source": [
    "plot_models_comparison('F1 Score')"
   ]
  },
  {
   "cell_type": "markdown",
   "metadata": {},
   "source": [
    "*Maybe Xgboots and RandomForest are the best sofar.We gonna try to optimize them. However fine-tune XGBoost took us too much time !. Hence below we just mention RandomForest fine-tune*"
   ]
  },
  {
   "cell_type": "markdown",
   "metadata": {},
   "source": [
    "# 5) Optimize model"
   ]
  },
  {
   "cell_type": "markdown",
   "metadata": {},
   "source": [
    "## Random Forest"
   ]
  },
  {
   "cell_type": "markdown",
   "metadata": {},
   "source": [
    "### Origin data"
   ]
  },
  {
   "cell_type": "code",
   "execution_count": 265,
   "metadata": {},
   "outputs": [],
   "source": [
    "# X_train, X_test, y_train, y_test = split_data(data)"
   ]
  },
  {
   "cell_type": "code",
   "execution_count": 126,
   "metadata": {},
   "outputs": [],
   "source": [
    "# from sklearn.model_selection import RandomizedSearchCV\n",
    "# from scipy.stats import randint\n",
    "\n",
    "# param_distribs = {\n",
    "#         'n_estimators': randint(low=1, high=300),\n",
    "#         'max_depth': randint(low=1, high=30)\n",
    "# }\n",
    "\n",
    "# rfc = RandomForestClassifier()\n",
    "# rnd_search = RandomizedSearchCV(rfc, param_distributions=param_distribs,\n",
    "#                                 n_iter=10, cv=5, scoring='accuracy', random_state=42)\n",
    "# rnd_search.fit(X_train, y_train)"
   ]
  },
  {
   "cell_type": "code",
   "execution_count": 268,
   "metadata": {},
   "outputs": [],
   "source": [
    "# cvres = rnd_search.cv_results_\n",
    "# for mean_score, params in zip(cvres[\"mean_test_score\"], cvres[\"params\"]):\n",
    "#     print(np.sqrt(mean_score), params)"
   ]
  },
  {
   "cell_type": "markdown",
   "metadata": {},
   "source": [
    "*for origin data, ideal is max_depth 19 , n_estimators 215*"
   ]
  },
  {
   "cell_type": "markdown",
   "metadata": {},
   "source": [
    "### Sample retest"
   ]
  },
  {
   "cell_type": "code",
   "execution_count": 280,
   "metadata": {},
   "outputs": [],
   "source": [
    "from sklearn.ensemble import RandomForestClassifier\n",
    "\n",
    "ensemble_5 = RandomForestClassifier(max_depth=21,n_estimators=258, criterion=\"entropy\", n_jobs=4)"
   ]
  },
  {
   "cell_type": "code",
   "execution_count": 281,
   "metadata": {},
   "outputs": [
    {
     "data": {
      "text/html": [
       "<div>\n",
       "<style scoped>\n",
       "    .dataframe tbody tr th:only-of-type {\n",
       "        vertical-align: middle;\n",
       "    }\n",
       "\n",
       "    .dataframe tbody tr th {\n",
       "        vertical-align: top;\n",
       "    }\n",
       "\n",
       "    .dataframe thead th {\n",
       "        text-align: right;\n",
       "    }\n",
       "</style>\n",
       "<table border=\"1\" class=\"dataframe\">\n",
       "  <thead>\n",
       "    <tr style=\"text-align: right;\">\n",
       "      <th></th>\n",
       "      <th>F1 Score</th>\n",
       "      <th>Recall</th>\n",
       "    </tr>\n",
       "  </thead>\n",
       "  <tbody>\n",
       "    <tr>\n",
       "      <th>Original</th>\n",
       "      <td>0.850</td>\n",
       "      <td>0.850</td>\n",
       "    </tr>\n",
       "    <tr>\n",
       "      <th>Filtered</th>\n",
       "      <td>0.847</td>\n",
       "      <td>0.847</td>\n",
       "    </tr>\n",
       "    <tr>\n",
       "      <th>PCA</th>\n",
       "      <td>0.830</td>\n",
       "      <td>0.830</td>\n",
       "    </tr>\n",
       "  </tbody>\n",
       "</table>\n",
       "</div>"
      ],
      "text/plain": [
       "          F1 Score  Recall\n",
       "Original     0.850   0.850\n",
       "Filtered     0.847   0.847\n",
       "PCA          0.830   0.830"
      ]
     },
     "execution_count": 281,
     "metadata": {},
     "output_type": "execute_result"
    }
   ],
   "source": [
    "sixth_learning_by_Random_Forest(data)"
   ]
  },
  {
   "cell_type": "markdown",
   "metadata": {},
   "source": [
    "# 6) Deep into dimension reduction"
   ]
  },
  {
   "cell_type": "markdown",
   "metadata": {},
   "source": [
    "*Here we remind ensemble_5 and ensemble_6 for random forest and XGBoost respectively*"
   ]
  },
  {
   "cell_type": "code",
   "execution_count": 71,
   "metadata": {},
   "outputs": [],
   "source": [
    "ensemble_5 = RandomForestClassifier(max_depth=21,n_estimators=258, criterion=\"entropy\", n_jobs=4)\n",
    "ensemble_6 = XGBClassifier(max_depth=5, n_jobs=-1)"
   ]
  },
  {
   "cell_type": "code",
   "execution_count": 24,
   "metadata": {},
   "outputs": [],
   "source": [
    "lyst_n = [i**2 for i in range(1,29)]"
   ]
  },
  {
   "cell_type": "code",
   "execution_count": 25,
   "metadata": {},
   "outputs": [],
   "source": [
    "lyst_n.sort(reverse=True)"
   ]
  },
  {
   "cell_type": "code",
   "execution_count": 26,
   "metadata": {},
   "outputs": [],
   "source": [
    "a,b,c,d = [] , [] , [] , [] ### f1_score_xgbc,f1_score_rfc,recall_xgbc,recall_rfc"
   ]
  },
  {
   "cell_type": "code",
   "execution_count": 31,
   "metadata": {},
   "outputs": [],
   "source": [
    "def deeply_reduce_dimension(lyst,data) :\n",
    "    for i in lyst_n :\n",
    "        data_pca = create_new_data_by_pca(data,i)\n",
    "        xgbc = ensemble_evaluation(data_pca, ensemble_6 , label='XGBoost')\n",
    "        rfc = ensemble_evaluation(data_pca, ensemble_5 , label='Random Forest')\n",
    "        a.append(xgbc.values[0,0])\n",
    "        b.append(rfc.values[0,0])\n",
    "        c.append(xgbc.values[0,1])\n",
    "        d.append(rfc.values[0,1])\n",
    "    return (a,b,c,d)"
   ]
  },
  {
   "cell_type": "code",
   "execution_count": 48,
   "metadata": {},
   "outputs": [],
   "source": [
    "f1_score_xgbc,f1_score_rfc,recall_xgbc,recall_rfc = deeply_reduce_dimension(lyst_n,data)"
   ]
  },
  {
   "cell_type": "code",
   "execution_count": 34,
   "metadata": {},
   "outputs": [],
   "source": [
    "# import pickle\n",
    "\n",
    "# with open('f1_score_xgbc', 'wb') as a_:\n",
    "#     pickle.dump(f1_score_xgbc, a_)"
   ]
  },
  {
   "cell_type": "code",
   "execution_count": 35,
   "metadata": {},
   "outputs": [],
   "source": [
    "# with open('f1_score_rfc', 'wb') as b_:\n",
    "#     pickle.dump(f1_score_rfc, b_)"
   ]
  },
  {
   "cell_type": "code",
   "execution_count": 36,
   "metadata": {},
   "outputs": [],
   "source": [
    "# with open('recall_xgbc', 'wb') as c_:\n",
    "#     pickle.dump(recall_xgbc, c_)"
   ]
  },
  {
   "cell_type": "code",
   "execution_count": 37,
   "metadata": {},
   "outputs": [],
   "source": [
    "# with open('recall_rfc', 'wb') as d_:\n",
    "#     pickle.dump(recall_rfc, d_)"
   ]
  },
  {
   "cell_type": "code",
   "execution_count": 38,
   "metadata": {},
   "outputs": [],
   "source": [
    "x = np.arange(28)"
   ]
  },
  {
   "cell_type": "code",
   "execution_count": 47,
   "metadata": {},
   "outputs": [
    {
     "data": {
      "image/png": "[encoded data removed]",
      "text/plain": [
       "<Figure size 1080x576 with 1 Axes>"
      ]
     },
     "metadata": {},
     "output_type": "display_data"
    }
   ],
   "source": [
    "fig, ax = plt.subplots(figsize=(15,8))\n",
    "\n",
    "width = 0.35         # the width of the bars\n",
    "p1 = ax.bar(x, f1_score_xgbc, width)\n",
    "p2 = ax.bar(x + width , f1_score_rfc, width)\n",
    "\n",
    "ax.set_title('F1 score over sample size 5000',fontsize=25)\n",
    "ax.set_xlabel('Dimensions',fontsize=20)\n",
    "ax.set_ylabel('score',fontsize=20)\n",
    "ax.set_xticks(x + width / 2)\n",
    "ax.set_xticklabels(('784', '729', '676', '625', '576', '529', '484', '441', '400',\n",
    "                   '361', '324', '289', '256', '255', '196', '169', '144', '121',\n",
    "                   '100', '81', '64', '49', '36', '25', '16', '9', '4', '1'))\n",
    "\n",
    "ax.legend((p1[0], p2[0]), ('XGBoost', 'Random Forest'))\n",
    "# ax.yaxis.set_units(inch)\n",
    "ax.autoscale_view()\n",
    "\n",
    "plt.show()"
   ]
  },
  {
   "cell_type": "code",
   "execution_count": 46,
   "metadata": {},
   "outputs": [
    {
     "data": {
      "image/png": "[encoded data removed]",
      "text/plain": [
       "<Figure size 1080x576 with 1 Axes>"
      ]
     },
     "metadata": {},
     "output_type": "display_data"
    }
   ],
   "source": [
    "fig, ax = plt.subplots(figsize=(15,8))\n",
    "\n",
    "width = 0.35         # the width of the bars\n",
    "p1 = ax.bar(x, recall_xgbc, width)\n",
    "p2 = ax.bar(x + width , recall_rfc, width)\n",
    "\n",
    "ax.set_title('Recall over sample size 5000',fontsize=25)\n",
    "ax.set_xlabel('Dimensions',fontsize=20)\n",
    "ax.set_ylabel('score',fontsize=20)\n",
    "ax.set_xticks(x + width / 2)\n",
    "ax.set_xticklabels(('784', '729', '676', '625', '576', '529', '484', '441', '400',\n",
    "                   '361', '324', '289', '256', '255', '196', '169', '144', '121',\n",
    "                   '100', '81', '64', '49', '36', '25', '16', '9', '4', '1'))\n",
    "\n",
    "ax.legend((p1[0], p2[0]), ('XGBoost', 'Random Forest'))\n",
    "# ax.yaxis.set_units(inch)\n",
    "ax.autoscale_view()\n",
    "\n",
    "plt.show()"
   ]
  },
  {
   "cell_type": "markdown",
   "metadata": {},
   "source": [
    "*Dimension reduce so much down to 16 but F1 score and Recall still larger than 80% !!*"
   ]
  },
  {
   "cell_type": "markdown",
   "metadata": {},
   "source": [
    "# 7) Train on whole train data set"
   ]
  },
  {
   "cell_type": "code",
   "execution_count": 55,
   "metadata": {},
   "outputs": [],
   "source": [
    "from sklearn.model_selection import cross_val_score"
   ]
  },
  {
   "cell_type": "markdown",
   "metadata": {},
   "source": [
    "*Now we move to train on whole train set with two models*\n",
    "- **Random forest** : *max_depth=21,n_estimators=258, criterion=\"entropy\", n_jobs=4*\n",
    "- **XGBoost** : *max_depth=5, n_jobs=-1*"
   ]
  },
  {
   "cell_type": "markdown",
   "metadata": {},
   "source": [
    "*And implement on 3 kindS of data set*\n",
    "- **Origin data set 784**\n",
    "- **Feature selection data 437**\n",
    "- **PCA data dimension 500**"
   ]
  },
  {
   "cell_type": "markdown",
   "metadata": {},
   "source": [
    "## 7a) Reading test set"
   ]
  },
  {
   "cell_type": "code",
   "execution_count": 28,
   "metadata": {},
   "outputs": [],
   "source": [
    "test_set = pd.read_csv('fashion-mnist_test.csv')"
   ]
  },
  {
   "cell_type": "code",
   "execution_count": 61,
   "metadata": {},
   "outputs": [
    {
     "data": {
      "text/plain": [
       "(10000, 785)"
      ]
     },
     "execution_count": 61,
     "metadata": {},
     "output_type": "execute_result"
    }
   ],
   "source": [
    "test_set.shape"
   ]
  },
  {
   "cell_type": "markdown",
   "metadata": {},
   "source": [
    "## 7b) Construct train and test function"
   ]
  },
  {
   "cell_type": "code",
   "execution_count": 82,
   "metadata": {},
   "outputs": [],
   "source": [
    "a = RandomForestClassifier(max_depth=21,n_estimators=258, criterion=\"entropy\", n_jobs=4)\n",
    "b = XGBClassifier(max_depth=5, n_jobs=-1)"
   ]
  },
  {
   "cell_type": "code",
   "execution_count": 83,
   "metadata": {},
   "outputs": [],
   "source": [
    "def train_rfc_xgbc(data,a,b) :\n",
    "    X_train = data.drop('label',axis=1)\n",
    "    y_train = data['label']\n",
    "    a.fit(X_train,y_train)\n",
    "    b.fit(X_train,y_train)\n",
    "    return a,b"
   ]
  },
  {
   "cell_type": "code",
   "execution_count": 31,
   "metadata": {},
   "outputs": [],
   "source": [
    "def test_rfc_xgbc(data,a,b) :\n",
    "    X_test = data.drop('label',axis = 1)\n",
    "    y_test = data['label']\n",
    "    \n",
    "    predictions_1 = a.predict(X_test)\n",
    "    predictions_2 = b.predict(X_test)\n",
    "    \n",
    "    rfc_result = pd.DataFrame({'F1 Score': [metrics.f1_score(y_test, predictions_1,average='micro')],\n",
    "                         'Recall': [metrics.recall_score(y_test, predictions_1,average='micro')]}, index=['Random Forest'])\n",
    "    \n",
    "    xgbc_result = pd.DataFrame({'F1 Score': [metrics.f1_score(y_test, predictions_2,average='micro')],\n",
    "                         'Recall': [metrics.recall_score(y_test, predictions_2,average='micro')]}, index=['XGBoost'])\n",
    "    \n",
    "    return pd.concat([rfc_result, xgbc_result], axis=0)"
   ]
  },
  {
   "cell_type": "code",
   "execution_count": 150,
   "metadata": {},
   "outputs": [],
   "source": [
    "def visualize_confusion_matrix(data,model) :\n",
    "    X_test = data.drop('label',axis = 1)\n",
    "    y_test = data['label']\n",
    "    \n",
    "    predictions = model.predict(X_test)\n",
    "    cm = confusion_matrix(y_test, predictions)\n",
    "    plt.figure(figsize=(9,6))\n",
    "    plt.title(f'Confusion matrix',fontsize=30)\n",
    "    sns.heatmap(cm,cmap=\"YlGnBu\", annot=True, fmt=\"d\")\n",
    "    b, t = plt.ylim() # discover the values for bottom and top\n",
    "    b += 0.5 # Add 0.5 to the bottom\n",
    "    t -= 0.5 # Subtract 0.5 from the top\n",
    "    plt.ylim(b, t) # update the ylim(bottom, top) values\n",
    "    plt.show() "
   ]
  },
  {
   "cell_type": "markdown",
   "metadata": {},
   "source": [
    "## 7c) Training on Origin Data"
   ]
  },
  {
   "cell_type": "code",
   "execution_count": 99,
   "metadata": {},
   "outputs": [],
   "source": [
    "rfc_origin , xgbc_origin = train_rfc_xgbc(train_set,a,b)"
   ]
  },
  {
   "cell_type": "code",
   "execution_count": 132,
   "metadata": {},
   "outputs": [],
   "source": [
    "# import joblib\n",
    "\n",
    "# joblib.dump(rfc_origin, \"rfc_origin.pkl\")\n",
    "# joblib.dump(xgbc_origin, \"xgbc_origin.pkl\")"
   ]
  },
  {
   "cell_type": "code",
   "execution_count": 129,
   "metadata": {},
   "outputs": [],
   "source": [
    "rfc_origin = joblib.load(\"rfc_origin.pkl\")\n",
    "xgbc_origin = joblib.load(\"xgbc_origin.pkl\")"
   ]
  },
  {
   "cell_type": "code",
   "execution_count": 135,
   "metadata": {},
   "outputs": [],
   "source": [
    "result_origin = test_rfc_xgbc(test_set,rfc_origin , xgbc_origin)"
   ]
  },
  {
   "cell_type": "code",
   "execution_count": 136,
   "metadata": {},
   "outputs": [
    {
     "data": {
      "text/html": [
       "<div>\n",
       "<style scoped>\n",
       "    .dataframe tbody tr th:only-of-type {\n",
       "        vertical-align: middle;\n",
       "    }\n",
       "\n",
       "    .dataframe tbody tr th {\n",
       "        vertical-align: top;\n",
       "    }\n",
       "\n",
       "    .dataframe thead th {\n",
       "        text-align: right;\n",
       "    }\n",
       "</style>\n",
       "<table border=\"1\" class=\"dataframe\">\n",
       "  <thead>\n",
       "    <tr style=\"text-align: right;\">\n",
       "      <th></th>\n",
       "      <th>F1 Score</th>\n",
       "      <th>Recall</th>\n",
       "    </tr>\n",
       "  </thead>\n",
       "  <tbody>\n",
       "    <tr>\n",
       "      <th>Random Forest</th>\n",
       "      <td>0.8874</td>\n",
       "      <td>0.8874</td>\n",
       "    </tr>\n",
       "    <tr>\n",
       "      <th>XGBoost</th>\n",
       "      <td>0.8921</td>\n",
       "      <td>0.8921</td>\n",
       "    </tr>\n",
       "  </tbody>\n",
       "</table>\n",
       "</div>"
      ],
      "text/plain": [
       "               F1 Score  Recall\n",
       "Random Forest    0.8874  0.8874\n",
       "XGBoost          0.8921  0.8921"
      ]
     },
     "execution_count": 136,
     "metadata": {},
     "output_type": "execute_result"
    }
   ],
   "source": [
    "result_origin"
   ]
  },
  {
   "cell_type": "code",
   "execution_count": 152,
   "metadata": {},
   "outputs": [
    {
     "name": "stdout",
     "output_type": "stream",
     "text": [
      "Random forest on origin set\n"
     ]
    },
    {
     "data": {
      "image/png": "[encoded data removed]",
      "text/plain": [
       "<Figure size 648x432 with 2 Axes>"
      ]
     },
     "metadata": {},
     "output_type": "display_data"
    }
   ],
   "source": [
    "print('Random forest on origin set')\n",
    "visualize_confusion_matrix(test_set,rfc_origin)"
   ]
  },
  {
   "cell_type": "markdown",
   "metadata": {},
   "source": [
    "## Working on Filtered Data"
   ]
  },
  {
   "cell_type": "code",
   "execution_count": 29,
   "metadata": {},
   "outputs": [],
   "source": [
    "filtered_train_set = train_set[features]\n",
    "filtered_test_set = test_set[features]"
   ]
  },
  {
   "cell_type": "code",
   "execution_count": null,
   "metadata": {},
   "outputs": [],
   "source": [
    "# rfc_filtered , xgbc_filtered = train_rfc_xgbc(filtered_train_set,a,b)"
   ]
  },
  {
   "cell_type": "code",
   "execution_count": 14,
   "metadata": {},
   "outputs": [],
   "source": [
    "import joblib\n",
    "rfc_filtered = joblib.load(\"rfc_filtered.pkl\")\n",
    "xgbc_filtered = joblib.load(\"xgbc_filtered.pkl\")"
   ]
  },
  {
   "cell_type": "code",
   "execution_count": 34,
   "metadata": {},
   "outputs": [],
   "source": [
    "result_filtered = test_rfc_xgbc(filtered_test_set,rfc_filtered , xgbc_filtered)"
   ]
  },
  {
   "cell_type": "code",
   "execution_count": 35,
   "metadata": {},
   "outputs": [
    {
     "data": {
      "text/html": [
       "<div>\n",
       "<style scoped>\n",
       "    .dataframe tbody tr th:only-of-type {\n",
       "        vertical-align: middle;\n",
       "    }\n",
       "\n",
       "    .dataframe tbody tr th {\n",
       "        vertical-align: top;\n",
       "    }\n",
       "\n",
       "    .dataframe thead th {\n",
       "        text-align: right;\n",
       "    }\n",
       "</style>\n",
       "<table border=\"1\" class=\"dataframe\">\n",
       "  <thead>\n",
       "    <tr style=\"text-align: right;\">\n",
       "      <th></th>\n",
       "      <th>F1 Score</th>\n",
       "      <th>Recall</th>\n",
       "    </tr>\n",
       "  </thead>\n",
       "  <tbody>\n",
       "    <tr>\n",
       "      <th>Random Forest</th>\n",
       "      <td>0.8811</td>\n",
       "      <td>0.8811</td>\n",
       "    </tr>\n",
       "    <tr>\n",
       "      <th>XGBoost</th>\n",
       "      <td>0.8833</td>\n",
       "      <td>0.8833</td>\n",
       "    </tr>\n",
       "  </tbody>\n",
       "</table>\n",
       "</div>"
      ],
      "text/plain": [
       "               F1 Score  Recall\n",
       "Random Forest    0.8811  0.8811\n",
       "XGBoost          0.8833  0.8833"
      ]
     },
     "execution_count": 35,
     "metadata": {},
     "output_type": "execute_result"
    }
   ],
   "source": [
    "result_filtered"
   ]
  },
  {
   "cell_type": "markdown",
   "metadata": {},
   "source": [
    "## Working on reduced - dimension data (n_component = 500)"
   ]
  },
  {
   "cell_type": "code",
   "execution_count": 183,
   "metadata": {},
   "outputs": [],
   "source": [
    "reduced_dimension_train_set = create_new_data_by_pca(train_set,500)"
   ]
  },
  {
   "cell_type": "code",
   "execution_count": 184,
   "metadata": {},
   "outputs": [],
   "source": [
    "reduced_dimension_test_set = create_new_data_by_pca(test_set,500)"
   ]
  },
  {
   "cell_type": "code",
   "execution_count": 185,
   "metadata": {},
   "outputs": [],
   "source": [
    "rfc_reduced_dimension = joblib.load(\"rfc_reduced_dimension.pkl\")\n",
    "xgbc_reduced_dimension = joblib.load(\"xgbc_reduced_dimension.pkl\")"
   ]
  },
  {
   "cell_type": "code",
   "execution_count": 186,
   "metadata": {},
   "outputs": [],
   "source": [
    "result_reduced_dimension = test_rfc_xgbc(reduced_dimension_test_set,rfc_reduced_dimension , xgbc_reduced_dimension)"
   ]
  },
  {
   "cell_type": "code",
   "execution_count": 187,
   "metadata": {},
   "outputs": [
    {
     "data": {
      "text/html": [
       "<div>\n",
       "<style scoped>\n",
       "    .dataframe tbody tr th:only-of-type {\n",
       "        vertical-align: middle;\n",
       "    }\n",
       "\n",
       "    .dataframe tbody tr th {\n",
       "        vertical-align: top;\n",
       "    }\n",
       "\n",
       "    .dataframe thead th {\n",
       "        text-align: right;\n",
       "    }\n",
       "</style>\n",
       "<table border=\"1\" class=\"dataframe\">\n",
       "  <thead>\n",
       "    <tr style=\"text-align: right;\">\n",
       "      <th></th>\n",
       "      <th>F1 Score</th>\n",
       "      <th>Recall</th>\n",
       "    </tr>\n",
       "  </thead>\n",
       "  <tbody>\n",
       "    <tr>\n",
       "      <th>Random Forest</th>\n",
       "      <td>0.6293</td>\n",
       "      <td>0.6293</td>\n",
       "    </tr>\n",
       "    <tr>\n",
       "      <th>XGBoost</th>\n",
       "      <td>0.5657</td>\n",
       "      <td>0.5657</td>\n",
       "    </tr>\n",
       "  </tbody>\n",
       "</table>\n",
       "</div>"
      ],
      "text/plain": [
       "               F1 Score  Recall\n",
       "Random Forest    0.6293  0.6293\n",
       "XGBoost          0.5657  0.5657"
      ]
     },
     "execution_count": 187,
     "metadata": {},
     "output_type": "execute_result"
    }
   ],
   "source": [
    "result_reduced_dimension"
   ]
  },
  {
   "cell_type": "markdown",
   "metadata": {},
   "source": [
    "# 8) Conclusion"
   ]
  },
  {
   "cell_type": "markdown",
   "metadata": {},
   "source": [
    "- **Random forest and XGboost give a highest accuracy compare to others mentioned in this notebook. Currently , Neural networks models give an accuracy up 97%. This number is actually defeatable !**"
   ]
  },
  {
   "cell_type": "markdown",
   "metadata": {},
   "source": [
    "- **Among three kinds of data set , origin data stand on the 1st place , followed by feature selection data and PCA data. This is not weird because origin data have the most infomation**"
   ]
  },
  {
   "cell_type": "markdown",
   "metadata": {},
   "source": [
    "- **Actually , the accuracy score gap between origin data and feature selection data is really small. Even training speed of feature selection data is so much faster then original one !**"
   ]
  },
  {
   "cell_type": "markdown",
   "metadata": {},
   "source": [
    "- **About PCA data , accuracy score is quite low (just around 60% for 500 dimensions). This can be seen from the very first ! We try visualizing images and they are not themselfve anymore !!**"
   ]
  }
 ],
 "metadata": {
  "kernelspec": {
   "display_name": "Python 3",
   "language": "python",
   "name": "python3"
  },
  "language_info": {
   "codemirror_mode": {
    "name": "ipython",
    "version": 3
   },
   "file_extension": ".py",
   "mimetype": "text/x-python",
   "name": "python",
   "nbconvert_exporter": "python",
   "pygments_lexer": "ipython3",
   "version": "3.7.5"
  }
 },
 "nbformat": 4,
 "nbformat_minor": 2
}
